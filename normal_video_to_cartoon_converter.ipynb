{
  "nbformat": 4,
  "nbformat_minor": 0,
  "metadata": {
    "colab": {
      "name": "normal video to cartoon converter",
      "provenance": [],
      "collapsed_sections": [],
      "machine_shape": "hm",
      "include_colab_link": true
    },
    "kernelspec": {
      "display_name": "Python 3",
      "name": "python3"
    },
    "accelerator": "GPU"
  },
  "cells": [
    {
      "cell_type": "markdown",
      "metadata": {
        "id": "view-in-github",
        "colab_type": "text"
      },
      "source": [
        "<a href=\"https://colab.research.google.com/github/bmox/normal-video-to-cartoon-video/blob/main/normal_video_to_cartoon_converter.ipynb\" target=\"_parent\"><img src=\"https://colab.research.google.com/assets/colab-badge.svg\" alt=\"Open In Colab\"/></a>"
      ]
    },
    {
      "cell_type": "code",
      "metadata": {
        "id": "WmwE-37dytvw"
      },
      "source": [
        "#For image to  cartoon we are using White-box-Cartoonization\r\n",
        "#https://github.com/SystemErrorWang/White-box-Cartoonization\r\n",
        "#For cartoon upscaling we are using waifu2x-chainer\r\n",
        "# https://github.com/tsurumeso/waifu2x-chainer"
      ],
      "execution_count": null,
      "outputs": []
    },
    {
      "cell_type": "code",
      "metadata": {
        "colab": {
          "base_uri": "https://localhost:8080/"
        },
        "id": "-GabezAPm5-7",
        "outputId": "bc762a15-eef0-408d-b95a-9e79a1d9de61"
      },
      "source": [
        "# @title ##**Use your drive storage or colab** { display-mode: \"form\" }\r\n",
        "\r\n",
        "from google.colab import drive\r\n",
        "from IPython.display import clear_output\r\n",
        "import os\r\n",
        "storage=\"temporary\"#@param[\"temporary\",\"google drive\"]\r\n",
        "if storage==\"google drive\":\r\n",
        "  drive.mount('/content/gdrive')\r\n",
        "  os.chdir(\"/content/gdrive/MyDrive/\")\r\n",
        "  clear_output()\r\n",
        "  print(\"Using drive as a storage\")\r\n",
        "elif storage==\"temporary\":\r\n",
        "  os.chdir(\"/content/\")\r\n",
        "  print(\"Using colab as a temporary storage\")"
      ],
      "execution_count": null,
      "outputs": [
        {
          "output_type": "stream",
          "text": [
            "Using colab as a temporary storage\n"
          ],
          "name": "stdout"
        }
      ]
    },
    {
      "cell_type": "code",
      "metadata": {
        "colab": {
          "base_uri": "https://localhost:8080/",
          "height": 35
        },
        "id": "PKphfSyOnQf8",
        "outputId": "7ec54ea7-1cc2-4cad-88bd-c52a70846e47"
      },
      "source": [
        "pwd"
      ],
      "execution_count": null,
      "outputs": [
        {
          "output_type": "execute_result",
          "data": {
            "application/vnd.google.colaboratory.intrinsic+json": {
              "type": "string"
            },
            "text/plain": [
              "'/content'"
            ]
          },
          "metadata": {
            "tags": []
          },
          "execution_count": 36
        }
      ]
    },
    {
      "cell_type": "code",
      "metadata": {
        "id": "H0oI8zJpSEXZ",
        "colab": {
          "base_uri": "https://localhost:8080/",
          "height": 17
        },
        "outputId": "5f5e0c47-cf6d-4546-cab0-b3ce01bb51cf"
      },
      "source": [
        "# @title ##**It stop reconneting when uploading** { display-mode: \"form\" }\n",
        " \n",
        "import IPython\n",
        "from google.colab import output\n",
        " \n",
        "display(IPython.display.Javascript('''\n",
        "function ClickConnect(){\n",
        "  btn = document.querySelector(\"colab-connect-button\")\n",
        "  if (btn != null){\n",
        "    console.log(\"Click colab-connect-button\"); \n",
        "    btn.click() \n",
        "    }\n",
        "    \n",
        "  btn = document.getElementById('ok')\n",
        "  if (btn != null){\n",
        "    console.log(\"Click reconnect\"); \n",
        "    btn.click() \n",
        "    }\n",
        "  }\n",
        "    \n",
        "setInterval(ClickConnect,60000)\n",
        "'''))"
      ],
      "execution_count": null,
      "outputs": [
        {
          "output_type": "display_data",
          "data": {
            "application/javascript": [
              "\n",
              "function ClickConnect(){\n",
              "  btn = document.querySelector(\"colab-connect-button\")\n",
              "  if (btn != null){\n",
              "    console.log(\"Click colab-connect-button\"); \n",
              "    btn.click() \n",
              "    }\n",
              "    \n",
              "  btn = document.getElementById('ok')\n",
              "  if (btn != null){\n",
              "    console.log(\"Click reconnect\"); \n",
              "    btn.click() \n",
              "    }\n",
              "  }\n",
              "    \n",
              "setInterval(ClickConnect,60000)\n"
            ],
            "text/plain": [
              "<IPython.core.display.Javascript object>"
            ]
          },
          "metadata": {
            "tags": []
          }
        }
      ]
    },
    {
      "cell_type": "code",
      "metadata": {
        "id": "iqZFgCurvQtg"
      },
      "source": [
        "!rm -rf ./normal-video-to-cartoon-video"
      ],
      "execution_count": null,
      "outputs": []
    },
    {
      "cell_type": "code",
      "metadata": {
        "id": "48iTLVRscEKN"
      },
      "source": [
        "!git clone https://github.com/bmox/normal-video-to-cartoon-video.git"
      ],
      "execution_count": null,
      "outputs": []
    },
    {
      "cell_type": "code",
      "metadata": {
        "colab": {
          "base_uri": "https://localhost:8080/"
        },
        "id": "7MwEsAZhRJEm",
        "outputId": "6c8f896b-8443-4aac-d6b1-703b53ceca39"
      },
      "source": [
        "%cd ./normal-video-to-cartoon-video/cartoonization"
      ],
      "execution_count": null,
      "outputs": [
        {
          "output_type": "stream",
          "text": [
            "/content/normal-video-to-cartoon-video/cartoonization\n"
          ],
          "name": "stdout"
        }
      ]
    },
    {
      "cell_type": "code",
      "metadata": {
        "id": "CjmbKMpnRCT4"
      },
      "source": [
        "!pip install -r requirements.txt"
      ],
      "execution_count": null,
      "outputs": []
    },
    {
      "cell_type": "code",
      "metadata": {
        "colab": {
          "base_uri": "https://localhost:8080/",
          "height": 398
        },
        "id": "GLGuGRLzr6U3",
        "outputId": "a83d3820-e91f-4dc9-be0a-56bc50edee7b"
      },
      "source": [
        "# @title ##**Check 4k video quality** { display-mode: \"form\" }\r\n",
        "#@markdown ##### Copy the output and run into next cell(if you are using youtube video)\r\n",
        "from IPython.display import HTML\r\n",
        "enter_youtube_link = \"https://youtu.be/RXPVd_IRTcU\" #@param {type:\"string\"}\r\n",
        "youtube_id=enter_youtube_link.split(\"/\")\r\n",
        "four_k_quality_check=f\"!youtube-dl --list-formats https://www.youtube.com/watch?v={youtube_id[-1]} | grep 2160\"\r\n",
        "\r\n",
        "html_code=\"<h3>Watch original youtube video</h3>\"\r\n",
        "display(HTML(html_code))\r\n",
        "youtube_video_display=\"\"\r\n",
        "youtube_video_display='<iframe width=\"'+str(560)+'\" height=\"'+str(315)+'\"\\nsrc=\"https://www.youtube.com/embed/'+youtube_id[-1]+'\"></iframe>'\r\n",
        "display(HTML(youtube_video_display))\r\n",
        "four_k_quality_check"
      ],
      "execution_count": null,
      "outputs": [
        {
          "output_type": "display_data",
          "data": {
            "text/html": [
              "<h3>Watch original youtube video</h3>"
            ],
            "text/plain": [
              "<IPython.core.display.HTML object>"
            ]
          },
          "metadata": {
            "tags": []
          }
        },
        {
          "output_type": "display_data",
          "data": {
            "text/html": [
              "<iframe width=\"560\" height=\"315\"\n",
              "src=\"https://www.youtube.com/embed/RXPVd_IRTcU\"></iframe>"
            ],
            "text/plain": [
              "<IPython.core.display.HTML object>"
            ]
          },
          "metadata": {
            "tags": []
          }
        },
        {
          "output_type": "execute_result",
          "data": {
            "application/vnd.google.colaboratory.intrinsic+json": {
              "type": "string"
            },
            "text/plain": [
              "'!youtube-dl --list-formats https://www.youtube.com/watch?v=RXPVd_IRTcU | grep 2160'"
            ]
          },
          "metadata": {
            "tags": []
          },
          "execution_count": 43
        }
      ]
    },
    {
      "cell_type": "code",
      "metadata": {
        "colab": {
          "base_uri": "https://localhost:8080/",
          "height": 35
        },
        "id": "lKnxteOosCiV",
        "outputId": "65dc1afb-5dcc-4369-b304-9aedd356c462"
      },
      "source": [
        "# @title ##**Check all video quality** { display-mode: \"form\" }\r\n",
        "#@markdown ##### Copy the output and run into next cell(if you are using youtube video)\r\n",
        "check_all_quality=f\"!youtube-dl --list-formats https://www.youtube.com/watch?v={youtube_id[-1]} | grep mp4\"\r\n",
        "check_all_quality"
      ],
      "execution_count": null,
      "outputs": [
        {
          "output_type": "execute_result",
          "data": {
            "application/vnd.google.colaboratory.intrinsic+json": {
              "type": "string"
            },
            "text/plain": [
              "'!youtube-dl --list-formats https://www.youtube.com/watch?v=RXPVd_IRTcU | grep mp4'"
            ]
          },
          "metadata": {
            "tags": []
          },
          "execution_count": 44
        }
      ]
    },
    {
      "cell_type": "code",
      "metadata": {
        "id": "JEMrZZHRsFI2"
      },
      "source": [
        "!youtube-dl --list-formats https://www.youtube.com/watch?v=RXPVd_IRTcU | grep 2160"
      ],
      "execution_count": null,
      "outputs": []
    },
    {
      "cell_type": "code",
      "metadata": {
        "id": "9ySKJvVQsGnu"
      },
      "source": [
        "!youtube-dl --list-formats https://www.youtube.com/watch?v=RXPVd_IRTcU | grep mp4"
      ],
      "execution_count": null,
      "outputs": []
    },
    {
      "cell_type": "code",
      "metadata": {
        "colab": {
          "base_uri": "https://localhost:8080/",
          "height": 35
        },
        "id": "y2qdq8uSzrcJ",
        "cellView": "form",
        "outputId": "4383ae15-7d36-4fb7-f2ab-d52708517380"
      },
      "source": [
        "import os\r\n",
        "enter_youtube_link = \"https://youtu.be/RXPVd_IRTcU\" #@param {type:\"string\"}\r\n",
        "youtube_quality = \"Auto\"#@param [\"Manual\",\"Auto\"]\r\n",
        "quality_number = \"137\" #@param {type:\"string\"}\r\n",
        "select_duration =\"some_part\" #@param[\"full_video\",\"some_part\"]\r\n",
        "enter_start_time= \"00:00:00\" #@param {type:\"string\"}\r\n",
        "enter_end_time= \"00:00:10\" #@param {type:\"string\"}\r\n",
        "upscale =\"yes\" #@param[\"yes\",\"no\"]\r\n",
        "\r\n",
        "argumet=\"!python main.py \"+f\"'{enter_youtube_link},{youtube_quality},{quality_number},{select_duration},{enter_start_time},{enter_end_time},{upscale}'\"\r\n",
        "argumet"
      ],
      "execution_count": null,
      "outputs": [
        {
          "output_type": "execute_result",
          "data": {
            "application/vnd.google.colaboratory.intrinsic+json": {
              "type": "string"
            },
            "text/plain": [
              "\"!python main.py 'https://youtu.be/RXPVd_IRTcU,Manual,137,some_part,00:00:00,00:00:10,yes'\""
            ]
          },
          "metadata": {
            "tags": []
          },
          "execution_count": 43
        }
      ]
    },
    {
      "cell_type": "code",
      "metadata": {
        "id": "U_dFuBg0i3gb"
      },
      "source": [
        "!python main.py 'https://youtu.be/RXPVd_IRTcU,Manual,137,some_part,00:00:00,00:00:10,yes'"
      ],
      "execution_count": null,
      "outputs": []
    },
    {
      "cell_type": "code",
      "metadata": {
        "colab": {
          "base_uri": "https://localhost:8080/",
          "height": 35
        },
        "id": "g2f4j46Bx0W3",
        "outputId": "e825795b-33dc-4246-f126-9fd4b114cf5a"
      },
      "source": [
        "pwd"
      ],
      "execution_count": null,
      "outputs": [
        {
          "output_type": "execute_result",
          "data": {
            "application/vnd.google.colaboratory.intrinsic+json": {
              "type": "string"
            },
            "text/plain": [
              "'/content/normal-video-to-cartoon-video/cartoonization'"
            ]
          },
          "metadata": {
            "tags": []
          },
          "execution_count": 45
        }
      ]
    },
    {
      "cell_type": "code",
      "metadata": {
        "id": "c9anJfNqx29v"
      },
      "source": [
        "!rm -rf ./cartoonized_images\r\n",
        "!rm -rf ./saved_models\r\n",
        "!rm -rf ./test_images\r\n",
        "!rm -rf ./saved_models\r\n",
        "!rm -rf ./waifu2x-chainer-master"
      ],
      "execution_count": null,
      "outputs": []
    },
    {
      "cell_type": "code",
      "metadata": {
        "colab": {
          "base_uri": "https://localhost:8080/",
          "height": 380
        },
        "id": "LNhiX8iqVd4i",
        "cellView": "form",
        "outputId": "acdfa213-ddac-4b0e-9cf6-b1dc2cd29c75"
      },
      "source": [
        "from IPython.display import HTML\r\n",
        "enter_youtube_link = \"https://youtu.be/RXPVd_IRTcU\" #@param {type:\"string\"}\r\n",
        "youtube_id=enter_youtube_link.split(\"/\")\r\n",
        "html_code=\"<h3>Watch original youtube video</h3>\"\r\n",
        "display(HTML(html_code))\r\n",
        "youtube_video_display=\"\"\r\n",
        "youtube_video_display='<iframe width=\"'+str(560)+'\" height=\"'+str(315)+'\"\\nsrc=\"https://www.youtube.com/embed/'+youtube_id[-1]+'\"></iframe>'\r\n",
        "display(HTML(youtube_video_display))"
      ],
      "execution_count": null,
      "outputs": [
        {
          "output_type": "display_data",
          "data": {
            "text/html": [
              "<h3>Watch original youtube video</h3>"
            ],
            "text/plain": [
              "<IPython.core.display.HTML object>"
            ]
          },
          "metadata": {
            "tags": []
          }
        },
        {
          "output_type": "display_data",
          "data": {
            "text/html": [
              "<iframe width=\"560\" height=\"315\"\n",
              "src=\"https://www.youtube.com/embed/RXPVd_IRTcU\"></iframe>"
            ],
            "text/plain": [
              "<IPython.core.display.HTML object>"
            ]
          },
          "metadata": {
            "tags": []
          }
        }
      ]
    },
    {
      "cell_type": "code",
      "metadata": {
        "colab": {
          "base_uri": "https://localhost:8080/",
          "height": 301
        },
        "id": "AHCW_8VQVbG2",
        "outputId": "767d19a8-eaa9-41f6-f4ef-83d022cc2f6f"
      },
      "source": [
        "# @title ##**paste a path to the watch video** { display-mode: \"form\" }\n",
        "enter_the_path = \"/content/normal-video-to-cartoon-video/cartoonization/input_video/cartoon.mkv\" #@param {type:\"string\"}\n",
        "!pip install -U kora\n",
        "from kora.drive import upload_public\n",
        "from IPython.display import HTML\n",
        "from IPython.display import clear_output\n",
        "url = upload_public(enter_the_path)\n",
        "clear_output()\n",
        "HTML(f\"\"\"<video src={url} width=500 controls/>\"\"\")"
      ],
      "execution_count": null,
      "outputs": [
        {
          "output_type": "execute_result",
          "data": {
            "text/html": [
              "<video src=https://drive.google.com/uc?id=17U_SndNQhHWWw7veotpRsiN5wBV5Sj_F width=500 controls/>"
            ],
            "text/plain": [
              "<IPython.core.display.HTML object>"
            ]
          },
          "metadata": {
            "tags": []
          },
          "execution_count": 48
        }
      ]
    },
    {
      "cell_type": "code",
      "metadata": {
        "id": "grQyRN3h44Gr"
      },
      "source": [
        "# @title ##**Save to drive if you are using temporary storage** { display-mode: \"form\" }\r\n",
        "\r\n",
        "enter_the_path = \"/content/normal-video-to-cartoon-video/cartoonization/input_video/cartoon_audio.mkv\" #@param {type:\"string\"}\r\n",
        "\r\n",
        "import shutil\r\n",
        "if storage==\"temporary\":\r\n",
        "  drive.mount('/content/gdrive')\r\n",
        "  clear_output()\r\n",
        "  try:\r\n",
        "    os.mkdir(\"/content/gdrive/MyDrive/cartoon_video\")\r\n",
        "  except:\r\n",
        "    pass \r\n",
        "  shutil.copy(f\"{enter_the_path}\",\"/content/gdrive/MyDrive/cartoon_video/\")\r\n",
        "  "
      ],
      "execution_count": null,
      "outputs": []
    }
  ]
}