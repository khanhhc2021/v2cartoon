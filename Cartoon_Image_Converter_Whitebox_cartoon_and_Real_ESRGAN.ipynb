{
  "nbformat": 4,
  "nbformat_minor": 0,
  "metadata": {
    "colab": {
      "name": "Cartoon Image Converter Whitebox-cartoon and Real-ESRGAN",
      "provenance": [],
      "collapsed_sections": []
    },
    "kernelspec": {
      "name": "python3",
      "display_name": "Python 3"
    },
    "accelerator": "GPU"
  },
  "cells": [
    {
      "cell_type": "code",
      "metadata": {
        "colab": {
          "base_uri": "https://localhost:8080/"
        },
        "cellView": "form",
        "id": "HgK3q52IUBxW",
        "outputId": "5201d906-18c1-4f32-9ec6-3fee00321935"
      },
      "source": [
        "from google.colab import drive\n",
        "from google.colab import files\n",
        "from IPython.display import clear_output\n",
        "import requests\n",
        "import shutil\n",
        "import glob\n",
        "import os\n",
        "storage=\"google drive\"#@param[\"temporary\",\"google drive\"]\n",
        "if storage==\"google drive\":\n",
        "  drive.mount('/content/gdrive')\n",
        "  os.chdir(\"/content/gdrive/MyDrive/\")\n",
        "  clear_output()\n",
        "  print(\"Using drive as a storage\")\n",
        "elif storage==\"temporary\":\n",
        "  os.chdir(\"/content/\")\n",
        "  print(\"Using colab as a temporary storage\")\n",
        "root=os.getcwd()"
      ],
      "execution_count": 1,
      "outputs": [
        {
          "output_type": "stream",
          "text": [
            "Using drive as a storage\n"
          ],
          "name": "stdout"
        }
      ]
    },
    {
      "cell_type": "code",
      "metadata": {
        "id": "Pdwc4PSdUsaw"
      },
      "source": [
        "!rm -rf ./White-box-Cartoonization.git"
      ],
      "execution_count": 2,
      "outputs": []
    },
    {
      "cell_type": "code",
      "metadata": {
        "id": "cEmm_yqa0Pmn"
      },
      "source": [
        "!git clone https://github.com/SystemErrorWang/White-box-Cartoonization.git"
      ],
      "execution_count": null,
      "outputs": []
    },
    {
      "cell_type": "code",
      "metadata": {
        "colab": {
          "base_uri": "https://localhost:8080/",
          "height": 35
        },
        "id": "ZjDI7l2nU08d",
        "outputId": "5112bee0-3b81-4f63-e5d7-a54cecac20ce"
      },
      "source": [
        "pwd"
      ],
      "execution_count": 7,
      "outputs": [
        {
          "output_type": "execute_result",
          "data": {
            "application/vnd.google.colaboratory.intrinsic+json": {
              "type": "string"
            },
            "text/plain": [
              "'/content/gdrive/MyDrive/White-box-Cartoonization'"
            ]
          },
          "metadata": {},
          "execution_count": 7
        }
      ]
    },
    {
      "cell_type": "code",
      "metadata": {
        "colab": {
          "base_uri": "https://localhost:8080/",
          "height": 35
        },
        "id": "MIIsUQEoXOaG",
        "outputId": "7eb2ef04-c2bd-45de-b38d-749e692b56ac"
      },
      "source": [
        "root"
      ],
      "execution_count": 5,
      "outputs": [
        {
          "output_type": "execute_result",
          "data": {
            "application/vnd.google.colaboratory.intrinsic+json": {
              "type": "string"
            },
            "text/plain": [
              "'/content/gdrive/MyDrive'"
            ]
          },
          "metadata": {},
          "execution_count": 5
        }
      ]
    },
    {
      "cell_type": "code",
      "metadata": {
        "id": "712-nv3TU5Xd"
      },
      "source": [
        "os.chdir(root+\"/White-box-Cartoonization\")"
      ],
      "execution_count": 6,
      "outputs": []
    },
    {
      "cell_type": "code",
      "metadata": {
        "id": "LJ8bk5cs02uh"
      },
      "source": [
        "!pip install tensorflow-gpu==1.15"
      ],
      "execution_count": null,
      "outputs": []
    },
    {
      "cell_type": "code",
      "metadata": {
        "colab": {
          "base_uri": "https://localhost:8080/",
          "height": 35
        },
        "id": "83aeTlvlVjCt",
        "outputId": "d9b498d9-e483-419e-d652-e17a4ca66028"
      },
      "source": [
        "pwd"
      ],
      "execution_count": 13,
      "outputs": [
        {
          "output_type": "execute_result",
          "data": {
            "application/vnd.google.colaboratory.intrinsic+json": {
              "type": "string"
            },
            "text/plain": [
              "'/content/gdrive/MyDrive/White-box-Cartoonization/test_code/test_images'"
            ]
          },
          "metadata": {},
          "execution_count": 13
        }
      ]
    },
    {
      "cell_type": "code",
      "metadata": {
        "id": "GA6wbaXNYZSV"
      },
      "source": [
        "os.chdir(root+\"/White-box-Cartoonization/test_code/test_images\")"
      ],
      "execution_count": 12,
      "outputs": []
    },
    {
      "cell_type": "code",
      "metadata": {
        "id": "dcrFFm-pYWHY"
      },
      "source": [
        "for i in os.listdir():\n",
        "  try:\n",
        "    os.remove(i)\n",
        "  except Exception as e:\n",
        "    print(str(e))"
      ],
      "execution_count": 19,
      "outputs": []
    },
    {
      "cell_type": "code",
      "metadata": {
        "cellView": "form",
        "id": "_5cyuL0dXkL2"
      },
      "source": [
        "image_option = \"Paste_A_Image_Url\"  #@param ['Upload_A_Single_Image', 'Paste_A_Image_Url', 'Give_A_Single_Image_Path', 'Give_A_Image_Folder_Path']\n",
        "if image_option == \"Upload_A_Single_Image\":\n",
        "  uploaded = files.upload()\n",
        "  clear_output()\n",
        "if image_option == \"Paste_A_Image_Url\":\n",
        "  download_link= \"\"#@param {type:\"string\"}\n",
        "  r = requests.get(download_link) \n",
        "  file_name=\"image.png\" \n",
        "  with open(file_name,'wb') as f: \n",
        "    f.write(r.content) \n",
        "  print(\"Download Successful!\")\n",
        "if image_option == \"Give_A_Single_Image_Path\":\n",
        "  single_image_path= \"\"#@param {type:\"string\"}\n",
        "  f_name=single_image_path.split(\"/\")[-1]\n",
        "  shutil.copy(single_image_path,\".\")\n",
        "if image_option == \"Give_A_Image_Folder_Path\":\n",
        "  folder_path= \"\"#@param {type:\"string\"}\n",
        "  image_list=[]\n",
        "  support_image=[\".jpg\",\".jpeg\",\".png\"]\n",
        "  for j in support_image:\n",
        "    for i in glob.glob(folder_path+f\"/*{j}\"):\n",
        "      image_list.append(i)\n",
        "  for k in image_list:\n",
        "    temp_file_name=k.split(\"/\")[-1]\n",
        "    shutil.copy(k,temp_file_name)\n",
        "     \n",
        "\n",
        "  \n"
      ],
      "execution_count": 38,
      "outputs": []
    },
    {
      "cell_type": "code",
      "metadata": {
        "id": "TAZpkFjpYNc1"
      },
      "source": [
        "os.chdir(root+\"/White-box-Cartoonization/test_code\")"
      ],
      "execution_count": 41,
      "outputs": []
    },
    {
      "cell_type": "code",
      "metadata": {
        "id": "d5NBv2Pb0ynh"
      },
      "source": [
        "!python cartoonize.py"
      ],
      "execution_count": null,
      "outputs": []
    },
    {
      "cell_type": "code",
      "metadata": {
        "id": "6wzxWSXO0045"
      },
      "source": [
        "cartoon_images_path=root+\"/White-box-Cartoonization/test_code/cartoonized_images\""
      ],
      "execution_count": 45,
      "outputs": []
    },
    {
      "cell_type": "code",
      "metadata": {
        "id": "ElwsKSQ3eHF1"
      },
      "source": [
        "os.chdir(root)"
      ],
      "execution_count": 46,
      "outputs": []
    },
    {
      "cell_type": "code",
      "metadata": {
        "colab": {
          "base_uri": "https://localhost:8080/",
          "height": 35
        },
        "id": "PtCHyVKReKTk",
        "outputId": "b24d9619-185c-459c-edce-cdff97d5884f"
      },
      "source": [
        "pwd"
      ],
      "execution_count": 47,
      "outputs": [
        {
          "output_type": "execute_result",
          "data": {
            "application/vnd.google.colaboratory.intrinsic+json": {
              "type": "string"
            },
            "text/plain": [
              "'/content/gdrive/MyDrive'"
            ]
          },
          "metadata": {},
          "execution_count": 47
        }
      ]
    },
    {
      "cell_type": "code",
      "metadata": {
        "id": "ecjC1b41me2f"
      },
      "source": [
        "# %cd Real-ESRGAN"
      ],
      "execution_count": null,
      "outputs": []
    },
    {
      "cell_type": "code",
      "metadata": {
        "id": "VdEuVPyMeS1G"
      },
      "source": [
        "!rm -rf ./Real-ESRGAN"
      ],
      "execution_count": 48,
      "outputs": []
    },
    {
      "cell_type": "code",
      "metadata": {
        "id": "PCBxEanweOvt"
      },
      "source": [
        "# Clone Real-ESRGAN and enter the Real-ESRGAN\n",
        "!git clone https://github.com/xinntao/Real-ESRGAN.git\n",
        "%cd Real-ESRGAN\n",
        "# Set up the environment\n",
        "!pip install basicsr\n",
        "!pip install facexlib\n",
        "!pip install gfpgan\n",
        "!pip install -r requirements.txt\n",
        "!python setup.py develop\n",
        "# Download the pre-trained model\n",
        "!wget https://github.com/xinntao/Real-ESRGAN/releases/download/v0.1.0/RealESRGAN_x4plus.pth -P experiments/pretrained_models"
      ],
      "execution_count": null,
      "outputs": []
    },
    {
      "cell_type": "code",
      "metadata": {
        "colab": {
          "base_uri": "https://localhost:8080/",
          "height": 35
        },
        "id": "diIyd1n4eolN",
        "outputId": "341996f0-8a2a-4b14-eda7-7a75e2739d45"
      },
      "source": [
        "pwd"
      ],
      "execution_count": 58,
      "outputs": [
        {
          "output_type": "execute_result",
          "data": {
            "application/vnd.google.colaboratory.intrinsic+json": {
              "type": "string"
            },
            "text/plain": [
              "'/content/gdrive/MyDrive/Real-ESRGAN'"
            ]
          },
          "metadata": {},
          "execution_count": 58
        }
      ]
    },
    {
      "cell_type": "code",
      "metadata": {
        "id": "ys9-Pm45fB0s"
      },
      "source": [
        "upload_folder = 'upload'\n",
        "result_folder = 'results'\n",
        "\n",
        "if os.path.isdir(upload_folder):\n",
        "    shutil.rmtree(upload_folder)\n",
        "if os.path.isdir(result_folder):\n",
        "    shutil.rmtree(result_folder)\n",
        "os.mkdir(upload_folder)\n",
        "os.mkdir(result_folder)"
      ],
      "execution_count": 51,
      "outputs": []
    },
    {
      "cell_type": "code",
      "metadata": {
        "id": "gHp1gy6qfNI9"
      },
      "source": [
        "for i in glob.glob(cartoon_images_path+\"/*\"):\n",
        "  copy_file_name=i.split(\"/\")[-1]\n",
        "  shutil.copy(i,root+\"/Real-ESRGAN/upload/\"+copy_file_name)"
      ],
      "execution_count": 57,
      "outputs": []
    },
    {
      "cell_type": "code",
      "metadata": {
        "id": "sql-febMgcuV"
      },
      "source": [
        "# if it is out of memory, try to use the `--tile` option\n",
        "# We upsample the image with the scale factor X3.5\n",
        "!python inference_realesrgan.py --model_path experiments/pretrained_models/RealESRGAN_x4plus.pth --input upload --netscale 4 --outscale 3.5 --half --face_enhance\n",
        "# Arguments\n",
        "# --model_path: the path to the pretrained model\n",
        "# --input: input folder or image\n",
        "# --netscale: The scale factor in the network architecture. It should be consistent with the model\n",
        "# --outscale: Output scale, can be arbitrary scale factore. "
      ],
      "execution_count": null,
      "outputs": []
    },
    {
      "cell_type": "code",
      "metadata": {
        "id": "8MUd72QsgsBN"
      },
      "source": [
        "# utils for visualization\n",
        "import cv2\n",
        "import matplotlib.pyplot as plt\n",
        "def display(img1, img2):\n",
        "  fig = plt.figure(figsize=(25, 10))\n",
        "  ax1 = fig.add_subplot(1, 2, 1) \n",
        "  plt.title('Input image', fontsize=16)\n",
        "  ax1.axis('off')\n",
        "  ax2 = fig.add_subplot(1, 2, 2)\n",
        "  plt.title('Real-ESRGAN output', fontsize=16)\n",
        "  ax2.axis('off')\n",
        "  ax1.imshow(img1)\n",
        "  ax2.imshow(img2)\n",
        "def imread(img_path):\n",
        "  img = cv2.imread(img_path)\n",
        "  img = cv2.cvtColor(img, cv2.COLOR_BGR2RGB)\n",
        "  return img\n",
        "\n",
        "# display each image in the upload folder\n",
        "import os\n",
        "import glob\n",
        "\n",
        "input_folder = root+'/White-box-Cartoonization/test_code/test_images/*'\n",
        "result_folder = 'results'\n",
        "input_list = sorted(glob.glob(input_folder))\n",
        "output_list = sorted(glob.glob(os.path.join(result_folder, '*')))\n",
        "for input_path, output_path in zip(input_list, output_list):\n",
        "  img_input = imread(input_path)\n",
        "  img_output = imread(output_path)\n",
        "  display(img_input, img_output)"
      ],
      "execution_count": null,
      "outputs": []
    },
    {
      "cell_type": "code",
      "metadata": {
        "colab": {
          "base_uri": "https://localhost:8080/",
          "height": 17
        },
        "id": "Vjb_-zRdhzJd",
        "outputId": "86556b0a-b461-493e-ecd6-0303674f8046"
      },
      "source": [
        "# Download the results\n",
        "zip_filename = 'Real-ESRGAN_result.zip'\n",
        "if os.path.exists(zip_filename):\n",
        "  os.remove(zip_filename)\n",
        "os.system(f\"zip -r -j {zip_filename} results/*\")\n",
        "files.download(zip_filename)"
      ],
      "execution_count": 61,
      "outputs": [
        {
          "output_type": "display_data",
          "data": {
            "application/javascript": [
              "\n",
              "    async function download(id, filename, size) {\n",
              "      if (!google.colab.kernel.accessAllowed) {\n",
              "        return;\n",
              "      }\n",
              "      const div = document.createElement('div');\n",
              "      const label = document.createElement('label');\n",
              "      label.textContent = `Downloading \"${filename}\": `;\n",
              "      div.appendChild(label);\n",
              "      const progress = document.createElement('progress');\n",
              "      progress.max = size;\n",
              "      div.appendChild(progress);\n",
              "      document.body.appendChild(div);\n",
              "\n",
              "      const buffers = [];\n",
              "      let downloaded = 0;\n",
              "\n",
              "      const channel = await google.colab.kernel.comms.open(id);\n",
              "      // Send a message to notify the kernel that we're ready.\n",
              "      channel.send({})\n",
              "\n",
              "      for await (const message of channel.messages) {\n",
              "        // Send a message to notify the kernel that we're ready.\n",
              "        channel.send({})\n",
              "        if (message.buffers) {\n",
              "          for (const buffer of message.buffers) {\n",
              "            buffers.push(buffer);\n",
              "            downloaded += buffer.byteLength;\n",
              "            progress.value = downloaded;\n",
              "          }\n",
              "        }\n",
              "      }\n",
              "      const blob = new Blob(buffers, {type: 'application/binary'});\n",
              "      const a = document.createElement('a');\n",
              "      a.href = window.URL.createObjectURL(blob);\n",
              "      a.download = filename;\n",
              "      div.appendChild(a);\n",
              "      a.click();\n",
              "      div.remove();\n",
              "    }\n",
              "  "
            ],
            "text/plain": [
              "<IPython.core.display.Javascript object>"
            ]
          },
          "metadata": {}
        },
        {
          "output_type": "display_data",
          "data": {
            "application/javascript": [
              "download(\"download_ba3bce0b-8330-4f00-b812-e8ef0f46b833\", \"Real-ESRGAN_result.zip\", 16707266)"
            ],
            "text/plain": [
              "<IPython.core.display.Javascript object>"
            ]
          },
          "metadata": {}
        }
      ]
    },
    {
      "cell_type": "code",
      "metadata": {
        "id": "OYDKKmIvn-rY"
      },
      "source": [
        "for i in glob.glob(root+\"/Real-ESRGAN/results/*\"):\n",
        "  files.download(i)"
      ],
      "execution_count": null,
      "outputs": []
    }
  ]
}