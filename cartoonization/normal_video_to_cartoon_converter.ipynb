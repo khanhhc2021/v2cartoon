{
  "nbformat": 4,
  "nbformat_minor": 0,
  "metadata": {
    "colab": {
      "name": "normal video to cartoon converter",
      "provenance": [],
      "collapsed_sections": [],
      "toc_visible": true,
      "machine_shape": "hm"
    },
    "kernelspec": {
      "display_name": "Python 3",
      "name": "python3"
    },
    "accelerator": "GPU"
  },
  "cells": [
    {
      "cell_type": "code",
      "metadata": {
        "id": "WmwE-37dytvw"
      },
      "source": [
        "#https://github.com/SystemErrorWang/White-box-Cartoonization"
      ],
      "execution_count": null,
      "outputs": []
    },
    {
      "cell_type": "code",
      "metadata": {
        "colab": {
          "base_uri": "https://localhost:8080/"
        },
        "cellView": "form",
        "id": "-GabezAPm5-7",
        "outputId": "590b7832-61c2-4786-ff0f-997057ecbbe9"
      },
      "source": [
        "from google.colab import drive\r\n",
        "from IPython.display import clear_output\r\n",
        "import os\r\n",
        "storage=\"google drive\"#@param[\"temporary\",\"google drive\"]\r\n",
        "if storage==\"google drive\":\r\n",
        "  drive.mount('/content/gdrive')\r\n",
        "  os.chdir(\"/content/gdrive/MyDrive/\")\r\n",
        "  clear_output()\r\n",
        "  print(\"Using drive as a storage\")\r\n",
        "elif storage==\"temporary\":\r\n",
        "  os.chdir(\"/content/\")\r\n",
        "  print(\"Using colab as a temporary storage\")"
      ],
      "execution_count": 1,
      "outputs": [
        {
          "output_type": "stream",
          "text": [
            "Using drive as a storage\n"
          ],
          "name": "stdout"
        }
      ]
    },
    {
      "cell_type": "code",
      "metadata": {
        "colab": {
          "base_uri": "https://localhost:8080/",
          "height": 35
        },
        "id": "PKphfSyOnQf8",
        "outputId": "a968373f-f412-4f4b-c00b-72ce0aa45462"
      },
      "source": [
        "pwd"
      ],
      "execution_count": 2,
      "outputs": [
        {
          "output_type": "execute_result",
          "data": {
            "application/vnd.google.colaboratory.intrinsic+json": {
              "type": "string"
            },
            "text/plain": [
              "'/content/gdrive/MyDrive'"
            ]
          },
          "metadata": {
            "tags": []
          },
          "execution_count": 2
        }
      ]
    },
    {
      "cell_type": "code",
      "metadata": {
        "id": "H0oI8zJpSEXZ",
        "colab": {
          "base_uri": "https://localhost:8080/",
          "height": 17
        },
        "outputId": "60f61bb7-1e29-4ea2-fd4e-b3caed53637f"
      },
      "source": [
        "# @title ##**It stop reconneting when uploading** { display-mode: \"form\" }\r\n",
        "\r\n",
        "import IPython\r\n",
        "from google.colab import output\r\n",
        "\r\n",
        "display(IPython.display.Javascript('''\r\n",
        "function ClickConnect(){\r\n",
        "  btn = document.querySelector(\"colab-connect-button\")\r\n",
        "  if (btn != null){\r\n",
        "    console.log(\"Click colab-connect-button\"); \r\n",
        "    btn.click() \r\n",
        "    }\r\n",
        "    \r\n",
        "  btn = document.getElementById('ok')\r\n",
        "  if (btn != null){\r\n",
        "    console.log(\"Click reconnect\"); \r\n",
        "    btn.click() \r\n",
        "    }\r\n",
        "  }\r\n",
        "    \r\n",
        "setInterval(ClickConnect,60000)\r\n",
        "'''))"
      ],
      "execution_count": 3,
      "outputs": [
        {
          "output_type": "display_data",
          "data": {
            "application/javascript": [
              "\n",
              "function ClickConnect(){\n",
              "  btn = document.querySelector(\"colab-connect-button\")\n",
              "  if (btn != null){\n",
              "    console.log(\"Click colab-connect-button\"); \n",
              "    btn.click() \n",
              "    }\n",
              "    \n",
              "  btn = document.getElementById('ok')\n",
              "  if (btn != null){\n",
              "    console.log(\"Click reconnect\"); \n",
              "    btn.click() \n",
              "    }\n",
              "  }\n",
              "    \n",
              "setInterval(ClickConnect,60000)\n"
            ],
            "text/plain": [
              "<IPython.core.display.Javascript object>"
            ]
          },
          "metadata": {
            "tags": []
          }
        }
      ]
    },
    {
      "cell_type": "code",
      "metadata": {
        "id": "iqZFgCurvQtg"
      },
      "source": [
        "!rm -rf ./noraml-video-to-cartoon-video"
      ],
      "execution_count": 4,
      "outputs": []
    },
    {
      "cell_type": "code",
      "metadata": {
        "colab": {
          "base_uri": "https://localhost:8080/"
        },
        "id": "rNPyudZzOcJJ",
        "outputId": "c3a8174e-7a9c-44d8-c710-df66e2057f83"
      },
      "source": [
        "!git clone https://github.com/bmox/noraml-video-to-cartoon-video.git"
      ],
      "execution_count": 5,
      "outputs": [
        {
          "output_type": "stream",
          "text": [
            "Cloning into 'noraml-video-to-cartoon-video'...\n",
            "remote: Enumerating objects: 57, done.\u001b[K\n",
            "remote: Counting objects: 100% (57/57), done.\u001b[K\n",
            "remote: Compressing objects: 100% (55/55), done.\u001b[K\n",
            "remote: Total 57 (delta 19), reused 0 (delta 0), pack-reused 0\u001b[K\n",
            "Unpacking objects: 100% (57/57), done.\n"
          ],
          "name": "stdout"
        }
      ]
    },
    {
      "cell_type": "code",
      "metadata": {
        "colab": {
          "base_uri": "https://localhost:8080/"
        },
        "id": "7MwEsAZhRJEm",
        "outputId": "12c59824-139d-4f83-d4ab-9cb85fe8e326"
      },
      "source": [
        "%cd ./noraml-video-to-cartoon-video/cartoonization"
      ],
      "execution_count": 6,
      "outputs": [
        {
          "output_type": "stream",
          "text": [
            "/content/gdrive/My Drive/noraml-video-to-cartoon-video/cartoonization\n"
          ],
          "name": "stdout"
        }
      ]
    },
    {
      "cell_type": "code",
      "metadata": {
        "id": "CjmbKMpnRCT4",
        "colab": {
          "base_uri": "https://localhost:8080/"
        },
        "outputId": "feed3100-185e-450e-b2f4-9d8d0cd1adb6"
      },
      "source": [
        "!pip install -r requirements.txt"
      ],
      "execution_count": 7,
      "outputs": [
        {
          "output_type": "stream",
          "text": [
            "Collecting tensorflow-gpu==1.15\n",
            "\u001b[?25l  Downloading https://files.pythonhosted.org/packages/bc/72/d06017379ad4760dc58781c765376ce4ba5dcf3c08d37032eeefbccf1c51/tensorflow_gpu-1.15.0-cp37-cp37m-manylinux2010_x86_64.whl (411.5MB)\n",
            "\u001b[K     |████████████████████████████████| 411.5MB 36kB/s \n",
            "\u001b[?25hRequirement already satisfied: opencv-python==4.1.2.30 in /usr/local/lib/python3.7/dist-packages (from -r requirements.txt (line 3)) (4.1.2.30)\n",
            "Requirement already satisfied: tqdm==4.41.1 in /usr/local/lib/python3.7/dist-packages (from -r requirements.txt (line 4)) (4.41.1)\n",
            "Collecting ffmpeg-python==0.2.0\n",
            "  Downloading https://files.pythonhosted.org/packages/d7/0c/56be52741f75bad4dc6555991fabd2e07b432d333da82c11ad701123888a/ffmpeg_python-0.2.0-py3-none-any.whl\n",
            "Collecting scikit-image==0.14.5\n",
            "\u001b[?25l  Downloading https://files.pythonhosted.org/packages/07/a2/8119fd4950919eff95b3e3f3db79bf779dd92773df509aa2e710525a9ed9/scikit_image-0.14.5-cp37-cp37m-manylinux1_x86_64.whl (25.4MB)\n",
            "\u001b[K     |████████████████████████████████| 25.4MB 124kB/s \n",
            "\u001b[?25hCollecting youtube_dl\n",
            "\u001b[?25l  Downloading https://files.pythonhosted.org/packages/eb/e8/d5cea73323e467eb01c78250d69a85e0d620a70bdf896b988a391ee8d492/youtube_dl-2021.3.3-py2.py3-none-any.whl (1.9MB)\n",
            "\u001b[K     |████████████████████████████████| 1.9MB 60.1MB/s \n",
            "\u001b[?25hRequirement already satisfied: google-pasta>=0.1.6 in /usr/local/lib/python3.7/dist-packages (from tensorflow-gpu==1.15->-r requirements.txt (line 2)) (0.2.0)\n",
            "Collecting gast==0.2.2\n",
            "  Downloading https://files.pythonhosted.org/packages/4e/35/11749bf99b2d4e3cceb4d55ca22590b0d7c2c62b9de38ac4a4a7f4687421/gast-0.2.2.tar.gz\n",
            "Requirement already satisfied: opt-einsum>=2.3.2 in /usr/local/lib/python3.7/dist-packages (from tensorflow-gpu==1.15->-r requirements.txt (line 2)) (3.3.0)\n",
            "Requirement already satisfied: six>=1.10.0 in /usr/local/lib/python3.7/dist-packages (from tensorflow-gpu==1.15->-r requirements.txt (line 2)) (1.15.0)\n",
            "Requirement already satisfied: keras-preprocessing>=1.0.5 in /usr/local/lib/python3.7/dist-packages (from tensorflow-gpu==1.15->-r requirements.txt (line 2)) (1.1.2)\n",
            "Collecting tensorboard<1.16.0,>=1.15.0\n",
            "\u001b[?25l  Downloading https://files.pythonhosted.org/packages/1e/e9/d3d747a97f7188f48aa5eda486907f3b345cd409f0a0850468ba867db246/tensorboard-1.15.0-py3-none-any.whl (3.8MB)\n",
            "\u001b[K     |████████████████████████████████| 3.8MB 54.1MB/s \n",
            "\u001b[?25hRequirement already satisfied: absl-py>=0.7.0 in /usr/local/lib/python3.7/dist-packages (from tensorflow-gpu==1.15->-r requirements.txt (line 2)) (0.10.0)\n",
            "Requirement already satisfied: wrapt>=1.11.1 in /usr/local/lib/python3.7/dist-packages (from tensorflow-gpu==1.15->-r requirements.txt (line 2)) (1.12.1)\n",
            "Requirement already satisfied: wheel>=0.26 in /usr/local/lib/python3.7/dist-packages (from tensorflow-gpu==1.15->-r requirements.txt (line 2)) (0.36.2)\n",
            "Requirement already satisfied: protobuf>=3.6.1 in /usr/local/lib/python3.7/dist-packages (from tensorflow-gpu==1.15->-r requirements.txt (line 2)) (3.12.4)\n",
            "Requirement already satisfied: grpcio>=1.8.6 in /usr/local/lib/python3.7/dist-packages (from tensorflow-gpu==1.15->-r requirements.txt (line 2)) (1.32.0)\n",
            "Requirement already satisfied: astor>=0.6.0 in /usr/local/lib/python3.7/dist-packages (from tensorflow-gpu==1.15->-r requirements.txt (line 2)) (0.8.1)\n",
            "Requirement already satisfied: termcolor>=1.1.0 in /usr/local/lib/python3.7/dist-packages (from tensorflow-gpu==1.15->-r requirements.txt (line 2)) (1.1.0)\n",
            "Collecting tensorflow-estimator==1.15.1\n",
            "\u001b[?25l  Downloading https://files.pythonhosted.org/packages/de/62/2ee9cd74c9fa2fa450877847ba560b260f5d0fb70ee0595203082dafcc9d/tensorflow_estimator-1.15.1-py2.py3-none-any.whl (503kB)\n",
            "\u001b[K     |████████████████████████████████| 512kB 59.2MB/s \n",
            "\u001b[?25hCollecting keras-applications>=1.0.8\n",
            "\u001b[?25l  Downloading https://files.pythonhosted.org/packages/71/e3/19762fdfc62877ae9102edf6342d71b28fbfd9dea3d2f96a882ce099b03f/Keras_Applications-1.0.8-py3-none-any.whl (50kB)\n",
            "\u001b[K     |████████████████████████████████| 51kB 8.7MB/s \n",
            "\u001b[?25hRequirement already satisfied: numpy<2.0,>=1.16.0 in /usr/local/lib/python3.7/dist-packages (from tensorflow-gpu==1.15->-r requirements.txt (line 2)) (1.19.5)\n",
            "Requirement already satisfied: future in /usr/local/lib/python3.7/dist-packages (from ffmpeg-python==0.2.0->-r requirements.txt (line 5)) (0.16.0)\n",
            "Requirement already satisfied: matplotlib>=2.0.0 in /usr/local/lib/python3.7/dist-packages (from scikit-image==0.14.5->-r requirements.txt (line 6)) (3.2.2)\n",
            "Requirement already satisfied: pillow>=4.3.0 in /usr/local/lib/python3.7/dist-packages (from scikit-image==0.14.5->-r requirements.txt (line 6)) (7.0.0)\n",
            "Requirement already satisfied: PyWavelets>=0.4.0 in /usr/local/lib/python3.7/dist-packages (from scikit-image==0.14.5->-r requirements.txt (line 6)) (1.1.1)\n",
            "Requirement already satisfied: scipy>=0.17.0 in /usr/local/lib/python3.7/dist-packages (from scikit-image==0.14.5->-r requirements.txt (line 6)) (1.4.1)\n",
            "Requirement already satisfied: cloudpickle>=0.2.1 in /usr/local/lib/python3.7/dist-packages (from scikit-image==0.14.5->-r requirements.txt (line 6)) (1.3.0)\n",
            "Requirement already satisfied: networkx>=1.8 in /usr/local/lib/python3.7/dist-packages (from scikit-image==0.14.5->-r requirements.txt (line 6)) (2.5)\n",
            "Requirement already satisfied: werkzeug>=0.11.15 in /usr/local/lib/python3.7/dist-packages (from tensorboard<1.16.0,>=1.15.0->tensorflow-gpu==1.15->-r requirements.txt (line 2)) (1.0.1)\n",
            "Requirement already satisfied: setuptools>=41.0.0 in /usr/local/lib/python3.7/dist-packages (from tensorboard<1.16.0,>=1.15.0->tensorflow-gpu==1.15->-r requirements.txt (line 2)) (54.0.0)\n",
            "Requirement already satisfied: markdown>=2.6.8 in /usr/local/lib/python3.7/dist-packages (from tensorboard<1.16.0,>=1.15.0->tensorflow-gpu==1.15->-r requirements.txt (line 2)) (3.3.4)\n",
            "Requirement already satisfied: h5py in /usr/local/lib/python3.7/dist-packages (from keras-applications>=1.0.8->tensorflow-gpu==1.15->-r requirements.txt (line 2)) (2.10.0)\n",
            "Requirement already satisfied: python-dateutil>=2.1 in /usr/local/lib/python3.7/dist-packages (from matplotlib>=2.0.0->scikit-image==0.14.5->-r requirements.txt (line 6)) (2.8.1)\n",
            "Requirement already satisfied: pyparsing!=2.0.4,!=2.1.2,!=2.1.6,>=2.0.1 in /usr/local/lib/python3.7/dist-packages (from matplotlib>=2.0.0->scikit-image==0.14.5->-r requirements.txt (line 6)) (2.4.7)\n",
            "Requirement already satisfied: cycler>=0.10 in /usr/local/lib/python3.7/dist-packages (from matplotlib>=2.0.0->scikit-image==0.14.5->-r requirements.txt (line 6)) (0.10.0)\n",
            "Requirement already satisfied: kiwisolver>=1.0.1 in /usr/local/lib/python3.7/dist-packages (from matplotlib>=2.0.0->scikit-image==0.14.5->-r requirements.txt (line 6)) (1.3.1)\n",
            "Requirement already satisfied: decorator>=4.3.0 in /usr/local/lib/python3.7/dist-packages (from networkx>=1.8->scikit-image==0.14.5->-r requirements.txt (line 6)) (4.4.2)\n",
            "Requirement already satisfied: importlib-metadata; python_version < \"3.8\" in /usr/local/lib/python3.7/dist-packages (from markdown>=2.6.8->tensorboard<1.16.0,>=1.15.0->tensorflow-gpu==1.15->-r requirements.txt (line 2)) (3.7.0)\n",
            "Requirement already satisfied: typing-extensions>=3.6.4; python_version < \"3.8\" in /usr/local/lib/python3.7/dist-packages (from importlib-metadata; python_version < \"3.8\"->markdown>=2.6.8->tensorboard<1.16.0,>=1.15.0->tensorflow-gpu==1.15->-r requirements.txt (line 2)) (3.7.4.3)\n",
            "Requirement already satisfied: zipp>=0.5 in /usr/local/lib/python3.7/dist-packages (from importlib-metadata; python_version < \"3.8\"->markdown>=2.6.8->tensorboard<1.16.0,>=1.15.0->tensorflow-gpu==1.15->-r requirements.txt (line 2)) (3.4.1)\n",
            "Building wheels for collected packages: gast\n",
            "  Building wheel for gast (setup.py) ... \u001b[?25l\u001b[?25hdone\n",
            "  Created wheel for gast: filename=gast-0.2.2-cp37-none-any.whl size=7540 sha256=ca3fac98ba9094aae44a7e66b6bfd2fa46c9ccf7cc95448c0aa522b02efd8716\n",
            "  Stored in directory: /root/.cache/pip/wheels/5c/2e/7e/a1d4d4fcebe6c381f378ce7743a3ced3699feb89bcfbdadadd\n",
            "Successfully built gast\n",
            "\u001b[31mERROR: tensorflow 2.4.1 has requirement gast==0.3.3, but you'll have gast 0.2.2 which is incompatible.\u001b[0m\n",
            "\u001b[31mERROR: tensorflow 2.4.1 has requirement tensorboard~=2.4, but you'll have tensorboard 1.15.0 which is incompatible.\u001b[0m\n",
            "\u001b[31mERROR: tensorflow 2.4.1 has requirement tensorflow-estimator<2.5.0,>=2.4.0, but you'll have tensorflow-estimator 1.15.1 which is incompatible.\u001b[0m\n",
            "\u001b[31mERROR: tensorflow-probability 0.12.1 has requirement gast>=0.3.2, but you'll have gast 0.2.2 which is incompatible.\u001b[0m\n",
            "\u001b[31mERROR: albumentations 0.1.12 has requirement imgaug<0.2.7,>=0.2.5, but you'll have imgaug 0.2.9 which is incompatible.\u001b[0m\n",
            "Installing collected packages: gast, tensorboard, tensorflow-estimator, keras-applications, tensorflow-gpu, ffmpeg-python, scikit-image, youtube-dl\n",
            "  Found existing installation: gast 0.3.3\n",
            "    Uninstalling gast-0.3.3:\n",
            "      Successfully uninstalled gast-0.3.3\n",
            "  Found existing installation: tensorboard 2.4.1\n",
            "    Uninstalling tensorboard-2.4.1:\n",
            "      Successfully uninstalled tensorboard-2.4.1\n",
            "  Found existing installation: tensorflow-estimator 2.4.0\n",
            "    Uninstalling tensorflow-estimator-2.4.0:\n",
            "      Successfully uninstalled tensorflow-estimator-2.4.0\n",
            "  Found existing installation: scikit-image 0.16.2\n",
            "    Uninstalling scikit-image-0.16.2:\n",
            "      Successfully uninstalled scikit-image-0.16.2\n",
            "Successfully installed ffmpeg-python-0.2.0 gast-0.2.2 keras-applications-1.0.8 scikit-image-0.14.5 tensorboard-1.15.0 tensorflow-estimator-1.15.1 tensorflow-gpu-1.15.0 youtube-dl-2021.3.3\n"
          ],
          "name": "stdout"
        }
      ]
    },
    {
      "cell_type": "code",
      "metadata": {
        "colab": {
          "base_uri": "https://localhost:8080/",
          "height": 398
        },
        "id": "GLGuGRLzr6U3",
        "outputId": "08ef358a-f934-4a31-8d91-3b715773eebc"
      },
      "source": [
        "# @title ##**Check 4k video quality** { display-mode: \"form\" }\r\n",
        "#@markdown ##### Copy the output and run into next cell(if you are using youtube video)\r\n",
        "from IPython.display import HTML\r\n",
        "enter_youtube_link = \"https://youtu.be/eAmGbA0JyIU\" #@param {type:\"string\"}\r\n",
        "youtube_id=enter_youtube_link.split(\"/\")\r\n",
        "four_k_quality_check=f\"!youtube-dl --list-formats https://www.youtube.com/watch?v={youtube_id[-1]} | grep 2160\"\r\n",
        "\r\n",
        "html_code=\"<h3>Watch original youtube video</h3>\"\r\n",
        "display(HTML(html_code))\r\n",
        "youtube_video_display=\"\"\r\n",
        "youtube_video_display='<iframe width=\"'+str(560)+'\" height=\"'+str(315)+'\"\\nsrc=\"https://www.youtube.com/embed/'+youtube_id[-1]+'\"></iframe>'\r\n",
        "display(HTML(youtube_video_display))\r\n",
        "four_k_quality_check"
      ],
      "execution_count": 8,
      "outputs": [
        {
          "output_type": "display_data",
          "data": {
            "text/html": [
              "<h3>Watch original youtube video</h3>"
            ],
            "text/plain": [
              "<IPython.core.display.HTML object>"
            ]
          },
          "metadata": {
            "tags": []
          }
        },
        {
          "output_type": "display_data",
          "data": {
            "text/html": [
              "<iframe width=\"560\" height=\"315\"\n",
              "src=\"https://www.youtube.com/embed/eAmGbA0JyIU\"></iframe>"
            ],
            "text/plain": [
              "<IPython.core.display.HTML object>"
            ]
          },
          "metadata": {
            "tags": []
          }
        },
        {
          "output_type": "execute_result",
          "data": {
            "application/vnd.google.colaboratory.intrinsic+json": {
              "type": "string"
            },
            "text/plain": [
              "'!youtube-dl --list-formats https://www.youtube.com/watch?v=eAmGbA0JyIU | grep 2160'"
            ]
          },
          "metadata": {
            "tags": []
          },
          "execution_count": 8
        }
      ]
    },
    {
      "cell_type": "code",
      "metadata": {
        "colab": {
          "base_uri": "https://localhost:8080/",
          "height": 35
        },
        "id": "lKnxteOosCiV",
        "outputId": "81c2d700-82cf-4de5-8937-8ca8a4b334af"
      },
      "source": [
        "# @title ##**Check all video quality** { display-mode: \"form\" }\r\n",
        "#@markdown ##### Copy the output and run into next cell(if you are using youtube video)\r\n",
        "check_all_quality=f\"!youtube-dl --list-formats https://www.youtube.com/watch?v={youtube_id[-1]} | grep mp4\"\r\n",
        "check_all_quality"
      ],
      "execution_count": 16,
      "outputs": [
        {
          "output_type": "execute_result",
          "data": {
            "application/vnd.google.colaboratory.intrinsic+json": {
              "type": "string"
            },
            "text/plain": [
              "'!youtube-dl --list-formats https://www.youtube.com/watch?v=eAmGbA0JyIU | grep mp4'"
            ]
          },
          "metadata": {
            "tags": []
          },
          "execution_count": 16
        }
      ]
    },
    {
      "cell_type": "code",
      "metadata": {
        "id": "JEMrZZHRsFI2"
      },
      "source": [
        "!youtube-dl --list-formats https://www.youtube.com/watch?v=eAmGbA0JyIU | grep 2160"
      ],
      "execution_count": 17,
      "outputs": []
    },
    {
      "cell_type": "code",
      "metadata": {
        "colab": {
          "base_uri": "https://localhost:8080/"
        },
        "id": "9ySKJvVQsGnu",
        "outputId": "65b63c18-39f3-4380-beab-714382344102"
      },
      "source": [
        "!youtube-dl --list-formats https://www.youtube.com/watch?v=eAmGbA0JyIU | grep mp4"
      ],
      "execution_count": 18,
      "outputs": [
        {
          "output_type": "stream",
          "text": [
            "140          m4a        audio only tiny  129k , m4a_dash container, mp4a.40.2@129k (44100Hz), 543.84KiB\n",
            "160          mp4        82x144     144p   28k , mp4_dash container, avc1.4d400b@  28k, 30fps, video only, 117.41KiB\n",
            "394          mp4        144x256    144p   64k , mp4_dash container, av01.0.00M.08@  64k, 30fps, video only, 268.79KiB\n",
            "133          mp4        136x240    144p   79k , mp4_dash container, avc1.4d400c@  79k, 30fps, video only, 332.80KiB\n",
            "395          mp4        240x426    240p  111k , mp4_dash container, av01.0.00M.08@ 111k, 30fps, video only, 468.48KiB\n",
            "134          mp4        202x360    240p  122k , mp4_dash container, avc1.4d400d@ 122k, 30fps, video only, 514.59KiB\n",
            "135          mp4        270x480    240p  126k , mp4_dash container, avc1.4d4015@ 126k, 30fps, video only, 530.24KiB\n",
            "136          mp4        406x720    360p  179k , mp4_dash container, avc1.4d401e@ 179k, 30fps, video only, 752.13KiB\n",
            "396          mp4        360x640    360p  201k , mp4_dash container, av01.0.01M.08@ 201k, 30fps, video only, 843.63KiB\n",
            "397          mp4        480x854    480p  334k , mp4_dash container, av01.0.04M.08@ 334k, 30fps, video only, 1.37MiB\n",
            "137          mp4        608x1080   480p  626k , mp4_dash container, avc1.64001f@ 626k, 30fps, video only, 2.56MiB\n",
            "398          mp4        720x1280   720p  609k , mp4_dash container, av01.0.05M.08@ 609k, 30fps, video only, 2.49MiB\n",
            "18           mp4        202x360    240p  356k , avc1.42001E, 30fps, mp4a.40.2 (44100Hz), 1.46MiB\n",
            "22           mp4        406x720    360p  308k , avc1.64001F, 30fps, mp4a.40.2 (44100Hz) (best)\n"
          ],
          "name": "stdout"
        }
      ]
    },
    {
      "cell_type": "code",
      "metadata": {
        "id": "HXzzbHKtpV_p"
      },
      "source": [
        "#edit ./main.py add your youtube video link, auto or manual and quality id"
      ],
      "execution_count": null,
      "outputs": []
    },
    {
      "cell_type": "code",
      "metadata": {
        "colab": {
          "base_uri": "https://localhost:8080/"
        },
        "id": "2mlNMkYaTRl3",
        "outputId": "abd55407-b7e6-409f-d84a-98393a99ab91"
      },
      "source": [
        "!python main.py"
      ],
      "execution_count": 9,
      "outputs": [
        {
          "output_type": "stream",
          "text": [
            "[youtube] eAmGbA0JyIU: Downloading webpage\n",
            "[download] Destination: Woman does 'Bite the Corner Challenge' with her dog.-eAmGbA0JyIU.f137.mp4\n",
            "\u001b[K[download] 100% of 2.56MiB in 00:00\n",
            "[download] Destination: Woman does 'Bite the Corner Challenge' with her dog.-eAmGbA0JyIU.f140.m4a\n",
            "\u001b[K[download] 100% of 543.84KiB in 00:00\n",
            "[ffmpeg] Merging formats into \"Woman does 'Bite the Corner Challenge' with her dog.-eAmGbA0JyIU.mp4\"\n",
            "Deleting original file Woman does 'Bite the Corner Challenge' with her dog.-eAmGbA0JyIU.f137.mp4 (pass -k to keep)\n",
            "Deleting original file Woman does 'Bite the Corner Challenge' with her dog.-eAmGbA0JyIU.f140.m4a (pass -k to keep)\n",
            "Download successful\n",
            "[\"Woman does 'Bite the Corner Challenge' with her dog.-eAmGbA0JyIU.mp4\"]\n",
            "ffmpeg version 3.4.8-0ubuntu0.2 Copyright (c) 2000-2020 the FFmpeg developers\n",
            "  built with gcc 7 (Ubuntu 7.5.0-3ubuntu1~18.04)\n",
            "  configuration: --prefix=/usr --extra-version=0ubuntu0.2 --toolchain=hardened --libdir=/usr/lib/x86_64-linux-gnu --incdir=/usr/include/x86_64-linux-gnu --enable-gpl --disable-stripping --enable-avresample --enable-avisynth --enable-gnutls --enable-ladspa --enable-libass --enable-libbluray --enable-libbs2b --enable-libcaca --enable-libcdio --enable-libflite --enable-libfontconfig --enable-libfreetype --enable-libfribidi --enable-libgme --enable-libgsm --enable-libmp3lame --enable-libmysofa --enable-libopenjpeg --enable-libopenmpt --enable-libopus --enable-libpulse --enable-librubberband --enable-librsvg --enable-libshine --enable-libsnappy --enable-libsoxr --enable-libspeex --enable-libssh --enable-libtheora --enable-libtwolame --enable-libvorbis --enable-libvpx --enable-libwavpack --enable-libwebp --enable-libx265 --enable-libxml2 --enable-libxvid --enable-libzmq --enable-libzvbi --enable-omx --enable-openal --enable-opengl --enable-sdl2 --enable-libdc1394 --enable-libdrm --enable-libiec61883 --enable-chromaprint --enable-frei0r --enable-libopencv --enable-libx264 --enable-shared\n",
            "  libavutil      55. 78.100 / 55. 78.100\n",
            "  libavcodec     57.107.100 / 57.107.100\n",
            "  libavformat    57. 83.100 / 57. 83.100\n",
            "  libavdevice    57. 10.100 / 57. 10.100\n",
            "  libavfilter     6.107.100 /  6.107.100\n",
            "  libavresample   3.  7.  0 /  3.  7.  0\n",
            "  libswscale      4.  8.100 /  4.  8.100\n",
            "  libswresample   2.  9.100 /  2.  9.100\n",
            "  libpostproc    54.  7.100 / 54.  7.100\n",
            "Input #0, mov,mp4,m4a,3gp,3g2,mj2, from './input_video.mp4':\n",
            "  Metadata:\n",
            "    major_brand     : isom\n",
            "    minor_version   : 512\n",
            "    compatible_brands: isomiso2avc1mp41\n",
            "    encoder         : Lavf57.83.100\n",
            "  Duration: 00:00:34.37, start: 0.000000, bitrate: 758 kb/s\n",
            "    Stream #0:0(und): Video: h264 (High) (avc1 / 0x31637661), yuv420p(tv, bt709), 608x1080 [SAR 1:1 DAR 76:135], 622 kb/s, 29.97 fps, 29.97 tbr, 30k tbn, 59.94 tbc (default)\n",
            "    Metadata:\n",
            "      handler_name    : VideoHandler\n",
            "    Stream #0:1(und): Audio: aac (LC) (mp4a / 0x6134706D), 44100 Hz, stereo, fltp, 127 kb/s (default)\n",
            "    Metadata:\n",
            "      handler_name    : SoundHandler\n",
            "Stream mapping:\n",
            "  Stream #0:0 -> #0:0 (h264 (native) -> mjpeg (native))\n",
            "Press [q] to stop, [?] for help\n",
            "\u001b[1;34m[swscaler @ 0x55db90164000] \u001b[0m\u001b[0;33mdeprecated pixel format used, make sure you did set range correctly\n",
            "\u001b[0mOutput #0, image2, to 'test_images/%03d.jpg':\n",
            "  Metadata:\n",
            "    major_brand     : isom\n",
            "    minor_version   : 512\n",
            "    compatible_brands: isomiso2avc1mp41\n",
            "    encoder         : Lavf57.83.100\n",
            "    Stream #0:0(und): Video: mjpeg, yuvj420p(pc), 608x1080 [SAR 1:1 DAR 76:135], q=2-31, 200 kb/s, 29.97 fps, 29.97 tbn, 29.97 tbc (default)\n",
            "    Metadata:\n",
            "      handler_name    : VideoHandler\n",
            "      encoder         : Lavc57.107.100 mjpeg\n",
            "    Side data:\n",
            "      cpb: bitrate max/min/avg: 0/0/200000 buffer size: 0 vbv_delay: -1\n",
            "frame= 1028 fps= 83 q=24.8 Lsize=N/A time=00:00:34.30 bitrate=N/A speed=2.77x    \n",
            "video:14121kB audio:0kB subtitle:0kB other streams:0kB global headers:0kB muxing overhead: unknown\n",
            "Frame extract successful\n",
            "WARNING:tensorflow:\n",
            "The TensorFlow contrib module will not be included in TensorFlow 2.0.\n",
            "For more information, please see:\n",
            "  * https://github.com/tensorflow/community/blob/master/rfcs/20180907-contrib-sunset.md\n",
            "  * https://github.com/tensorflow/addons\n",
            "  * https://github.com/tensorflow/io (for I/O related ops)\n",
            "If you depend on functionality not listed there, please file an issue.\n",
            "\n",
            "WARNING:tensorflow:From cartoonize.py:25: The name tf.placeholder is deprecated. Please use tf.compat.v1.placeholder instead.\n",
            "\n",
            "WARNING:tensorflow:From /content/gdrive/My Drive/noraml-video-to-cartoon-video/cartoonization/network.py:23: The name tf.variable_scope is deprecated. Please use tf.compat.v1.variable_scope instead.\n",
            "\n",
            "WARNING:tensorflow:From /usr/local/lib/python3.7/dist-packages/tensorflow_core/contrib/layers/python/layers/layers.py:1057: Layer.apply (from tensorflow.python.keras.engine.base_layer) is deprecated and will be removed in a future version.\n",
            "Instructions for updating:\n",
            "Please use `layer.__call__` method instead.\n",
            "WARNING:tensorflow:From /content/gdrive/My Drive/noraml-video-to-cartoon-video/cartoonization/network.py:45: The name tf.image.resize_bilinear is deprecated. Please use tf.compat.v1.image.resize_bilinear instead.\n",
            "\n",
            "WARNING:tensorflow:From cartoonize.py:30: The name tf.trainable_variables is deprecated. Please use tf.compat.v1.trainable_variables instead.\n",
            "\n",
            "WARNING:tensorflow:From cartoonize.py:32: The name tf.train.Saver is deprecated. Please use tf.compat.v1.train.Saver instead.\n",
            "\n",
            "WARNING:tensorflow:From cartoonize.py:33: The name tf.ConfigProto is deprecated. Please use tf.compat.v1.ConfigProto instead.\n",
            "\n",
            "WARNING:tensorflow:From cartoonize.py:35: The name tf.Session is deprecated. Please use tf.compat.v1.Session instead.\n",
            "\n",
            "2021-03-13 13:24:03.758640: I tensorflow/core/platform/cpu_feature_guard.cc:142] Your CPU supports instructions that this TensorFlow binary was not compiled to use: AVX2 FMA\n",
            "2021-03-13 13:24:03.763151: I tensorflow/core/platform/profile_utils/cpu_utils.cc:94] CPU Frequency: 2299995000 Hz\n",
            "2021-03-13 13:24:03.763474: I tensorflow/compiler/xla/service/service.cc:168] XLA service 0x560a38b80f40 initialized for platform Host (this does not guarantee that XLA will be used). Devices:\n",
            "2021-03-13 13:24:03.763509: I tensorflow/compiler/xla/service/service.cc:176]   StreamExecutor device (0): Host, Default Version\n",
            "2021-03-13 13:24:03.765526: I tensorflow/stream_executor/platform/default/dso_loader.cc:44] Successfully opened dynamic library libcuda.so.1\n",
            "2021-03-13 13:24:03.925018: I tensorflow/stream_executor/cuda/cuda_gpu_executor.cc:983] successful NUMA node read from SysFS had negative value (-1), but there must be at least one NUMA node, so returning NUMA node zero\n",
            "2021-03-13 13:24:03.925824: I tensorflow/compiler/xla/service/service.cc:168] XLA service 0x560a38b812c0 initialized for platform CUDA (this does not guarantee that XLA will be used). Devices:\n",
            "2021-03-13 13:24:03.925858: I tensorflow/compiler/xla/service/service.cc:176]   StreamExecutor device (0): Tesla P100-PCIE-16GB, Compute Capability 6.0\n",
            "2021-03-13 13:24:03.927406: I tensorflow/stream_executor/cuda/cuda_gpu_executor.cc:983] successful NUMA node read from SysFS had negative value (-1), but there must be at least one NUMA node, so returning NUMA node zero\n",
            "2021-03-13 13:24:03.927949: I tensorflow/core/common_runtime/gpu/gpu_device.cc:1618] Found device 0 with properties: \n",
            "name: Tesla P100-PCIE-16GB major: 6 minor: 0 memoryClockRate(GHz): 1.3285\n",
            "pciBusID: 0000:00:04.0\n",
            "2021-03-13 13:24:03.951417: I tensorflow/stream_executor/platform/default/dso_loader.cc:44] Successfully opened dynamic library libcudart.so.10.0\n",
            "2021-03-13 13:24:04.125153: I tensorflow/stream_executor/platform/default/dso_loader.cc:44] Successfully opened dynamic library libcublas.so.10.0\n",
            "2021-03-13 13:24:04.220469: I tensorflow/stream_executor/platform/default/dso_loader.cc:44] Successfully opened dynamic library libcufft.so.10.0\n",
            "2021-03-13 13:24:04.241099: I tensorflow/stream_executor/platform/default/dso_loader.cc:44] Successfully opened dynamic library libcurand.so.10.0\n",
            "2021-03-13 13:24:04.484708: I tensorflow/stream_executor/platform/default/dso_loader.cc:44] Successfully opened dynamic library libcusolver.so.10.0\n",
            "2021-03-13 13:24:04.612524: I tensorflow/stream_executor/platform/default/dso_loader.cc:44] Successfully opened dynamic library libcusparse.so.10.0\n",
            "2021-03-13 13:24:05.114530: I tensorflow/stream_executor/platform/default/dso_loader.cc:44] Successfully opened dynamic library libcudnn.so.7\n",
            "2021-03-13 13:24:05.114721: I tensorflow/stream_executor/cuda/cuda_gpu_executor.cc:983] successful NUMA node read from SysFS had negative value (-1), but there must be at least one NUMA node, so returning NUMA node zero\n",
            "2021-03-13 13:24:05.115342: I tensorflow/stream_executor/cuda/cuda_gpu_executor.cc:983] successful NUMA node read from SysFS had negative value (-1), but there must be at least one NUMA node, so returning NUMA node zero\n",
            "2021-03-13 13:24:05.115852: I tensorflow/core/common_runtime/gpu/gpu_device.cc:1746] Adding visible gpu devices: 0\n",
            "2021-03-13 13:24:05.115946: I tensorflow/stream_executor/platform/default/dso_loader.cc:44] Successfully opened dynamic library libcudart.so.10.0\n",
            "2021-03-13 13:24:05.118536: I tensorflow/core/common_runtime/gpu/gpu_device.cc:1159] Device interconnect StreamExecutor with strength 1 edge matrix:\n",
            "2021-03-13 13:24:05.118569: I tensorflow/core/common_runtime/gpu/gpu_device.cc:1165]      0 \n",
            "2021-03-13 13:24:05.118577: I tensorflow/core/common_runtime/gpu/gpu_device.cc:1178] 0:   N \n",
            "2021-03-13 13:24:05.118715: I tensorflow/stream_executor/cuda/cuda_gpu_executor.cc:983] successful NUMA node read from SysFS had negative value (-1), but there must be at least one NUMA node, so returning NUMA node zero\n",
            "2021-03-13 13:24:05.119250: I tensorflow/stream_executor/cuda/cuda_gpu_executor.cc:983] successful NUMA node read from SysFS had negative value (-1), but there must be at least one NUMA node, so returning NUMA node zero\n",
            "2021-03-13 13:24:05.119763: I tensorflow/core/common_runtime/gpu/gpu_device.cc:1304] Created TensorFlow device (/job:localhost/replica:0/task:0/device:GPU:0 with 15224 MB memory) -> physical GPU (device: 0, name: Tesla P100-PCIE-16GB, pci bus id: 0000:00:04.0, compute capability: 6.0)\n",
            "WARNING:tensorflow:From cartoonize.py:37: The name tf.global_variables_initializer is deprecated. Please use tf.compat.v1.global_variables_initializer instead.\n",
            "\n",
            "Total image is  1028\n",
            "Total iteration is 94\n",
            "Iteration 0\n",
            "  0% 0/11 [00:00<?, ?it/s]2021-03-13 13:24:05.688648: I tensorflow/stream_executor/platform/default/dso_loader.cc:44] Successfully opened dynamic library libcudnn.so.7\n",
            "2021-03-13 13:24:10.066675: I tensorflow/stream_executor/platform/default/dso_loader.cc:44] Successfully opened dynamic library libcublas.so.10.0\n",
            "100% 11/11 [00:06<00:00,  1.59it/s]\n",
            "Iteration 1\n",
            "100% 11/11 [00:00<00:00, 12.69it/s]\n",
            "Iteration 2\n",
            "100% 11/11 [00:00<00:00, 11.64it/s]\n",
            "Iteration 3\n",
            "100% 11/11 [00:00<00:00, 13.68it/s]\n",
            "Iteration 4\n",
            "100% 11/11 [00:00<00:00, 12.04it/s]\n",
            "Iteration 5\n",
            "100% 11/11 [00:00<00:00, 12.31it/s]\n",
            "Iteration 6\n",
            "100% 11/11 [00:00<00:00, 13.63it/s]\n",
            "Iteration 7\n",
            "100% 11/11 [00:00<00:00, 11.51it/s]\n",
            "Iteration 8\n",
            "100% 11/11 [00:00<00:00, 11.59it/s]\n",
            "Iteration 9\n",
            "100% 11/11 [00:00<00:00, 13.29it/s]\n",
            "Iteration 10\n",
            "100% 11/11 [00:00<00:00, 11.56it/s]\n",
            "Iteration 11\n",
            "100% 11/11 [00:00<00:00, 11.09it/s]\n",
            "Iteration 12\n",
            "100% 11/11 [00:00<00:00, 13.76it/s]\n",
            "Iteration 13\n",
            "100% 11/11 [00:00<00:00, 11.55it/s]\n",
            "Iteration 14\n",
            "100% 11/11 [00:00<00:00, 11.72it/s]\n",
            "Iteration 15\n",
            "100% 11/11 [00:00<00:00, 13.57it/s]\n",
            "Iteration 16\n",
            "100% 11/11 [00:00<00:00, 11.61it/s]\n",
            "Iteration 17\n",
            "100% 11/11 [00:00<00:00, 11.49it/s]\n",
            "Iteration 18\n",
            "100% 11/11 [00:00<00:00, 13.78it/s]\n",
            "Iteration 19\n",
            "100% 11/11 [00:00<00:00, 11.60it/s]\n",
            "Iteration 20\n",
            "100% 11/11 [00:00<00:00, 11.82it/s]\n",
            "Iteration 21\n",
            "100% 11/11 [00:00<00:00, 13.75it/s]\n",
            "Iteration 22\n",
            "100% 11/11 [00:00<00:00, 12.26it/s]\n",
            "Iteration 23\n",
            "100% 11/11 [00:00<00:00, 13.78it/s]\n",
            "Iteration 24\n",
            "100% 11/11 [00:00<00:00, 11.75it/s]\n",
            "Iteration 25\n",
            "100% 11/11 [00:00<00:00, 11.70it/s]\n",
            "Iteration 26\n",
            "100% 11/11 [00:00<00:00, 13.70it/s]\n",
            "Iteration 27\n",
            "100% 11/11 [00:00<00:00, 11.64it/s]\n",
            "Iteration 28\n",
            "100% 11/11 [00:00<00:00, 11.56it/s]\n",
            "Iteration 29\n",
            "100% 11/11 [00:00<00:00, 13.69it/s]\n",
            "Iteration 30\n",
            "100% 11/11 [00:00<00:00, 11.82it/s]\n",
            "Iteration 31\n",
            "100% 11/11 [00:00<00:00, 12.93it/s]\n",
            "Iteration 32\n",
            "100% 11/11 [00:00<00:00, 13.64it/s]\n",
            "Iteration 33\n",
            "100% 11/11 [00:00<00:00, 11.77it/s]\n",
            "Iteration 34\n",
            "100% 11/11 [00:00<00:00, 11.70it/s]\n",
            "Iteration 35\n",
            "100% 11/11 [00:00<00:00, 13.76it/s]\n",
            "Iteration 36\n",
            "100% 11/11 [00:00<00:00, 11.42it/s]\n",
            "Iteration 37\n",
            "100% 11/11 [00:00<00:00, 12.50it/s]\n",
            "Iteration 38\n",
            "100% 11/11 [00:00<00:00, 13.71it/s]\n",
            "Iteration 39\n",
            "100% 11/11 [00:00<00:00, 11.56it/s]\n",
            "Iteration 40\n",
            "100% 11/11 [00:00<00:00, 11.31it/s]\n",
            "Iteration 41\n",
            "100% 11/11 [00:00<00:00, 13.71it/s]\n",
            "Iteration 42\n",
            "100% 11/11 [00:00<00:00, 11.71it/s]\n",
            "Iteration 43\n",
            "100% 11/11 [00:00<00:00, 11.69it/s]\n",
            "Iteration 44\n",
            "100% 11/11 [00:00<00:00, 13.56it/s]\n",
            "Iteration 45\n",
            "100% 11/11 [00:00<00:00, 11.52it/s]\n",
            "Iteration 46\n",
            "100% 11/11 [00:00<00:00, 11.70it/s]\n",
            "Iteration 47\n",
            "100% 11/11 [00:00<00:00, 13.35it/s]\n",
            "Iteration 48\n",
            "100% 11/11 [00:00<00:00, 11.51it/s]\n",
            "Iteration 49\n",
            "100% 11/11 [00:00<00:00, 11.75it/s]\n",
            "Iteration 50\n",
            "100% 11/11 [00:00<00:00, 13.71it/s]\n",
            "Iteration 51\n",
            "100% 11/11 [00:00<00:00, 11.50it/s]\n",
            "Iteration 52\n",
            "100% 11/11 [00:00<00:00, 11.26it/s]\n",
            "Iteration 53\n",
            "100% 11/11 [00:00<00:00, 13.49it/s]\n",
            "Iteration 54\n",
            "100% 11/11 [00:00<00:00, 11.71it/s]\n",
            "Iteration 55\n",
            "100% 11/11 [00:00<00:00, 11.57it/s]\n",
            "Iteration 56\n",
            "100% 11/11 [00:00<00:00, 13.73it/s]\n",
            "Iteration 57\n",
            "100% 11/11 [00:00<00:00, 11.29it/s]\n",
            "Iteration 58\n",
            "100% 11/11 [00:00<00:00, 13.73it/s]\n",
            "Iteration 59\n",
            "100% 11/11 [00:00<00:00, 11.55it/s]\n",
            "Iteration 60\n",
            "100% 11/11 [00:00<00:00, 11.69it/s]\n",
            "Iteration 61\n",
            "100% 11/11 [00:00<00:00, 13.75it/s]\n",
            "Iteration 62\n",
            "100% 11/11 [00:00<00:00, 11.60it/s]\n",
            "Iteration 63\n",
            "100% 11/11 [00:00<00:00, 13.12it/s]\n",
            "Iteration 64\n",
            "100% 11/11 [00:00<00:00, 13.73it/s]\n",
            "Iteration 65\n",
            "100% 11/11 [00:00<00:00, 11.61it/s]\n",
            "Iteration 66\n",
            "100% 11/11 [00:00<00:00, 11.65it/s]\n",
            "Iteration 67\n",
            "100% 11/11 [00:00<00:00, 13.73it/s]\n",
            "Iteration 68\n",
            "100% 11/11 [00:00<00:00, 11.99it/s]\n",
            "Iteration 69\n",
            "100% 11/11 [00:00<00:00, 11.72it/s]\n",
            "Iteration 70\n",
            "100% 11/11 [00:00<00:00, 13.73it/s]\n",
            "Iteration 71\n",
            "100% 11/11 [00:00<00:00, 11.73it/s]\n",
            "Iteration 72\n",
            "100% 11/11 [00:00<00:00, 11.57it/s]\n",
            "Iteration 73\n",
            "100% 11/11 [00:00<00:00, 13.73it/s]\n",
            "Iteration 74\n",
            "100% 11/11 [00:00<00:00, 11.71it/s]\n",
            "Iteration 75\n",
            "100% 11/11 [00:00<00:00, 11.67it/s]\n",
            "Iteration 76\n",
            "100% 11/11 [00:00<00:00, 13.78it/s]\n",
            "Iteration 77\n",
            "100% 11/11 [00:00<00:00, 11.68it/s]\n",
            "Iteration 78\n",
            "100% 11/11 [00:00<00:00, 11.71it/s]\n",
            "Iteration 79\n",
            "100% 11/11 [00:00<00:00, 13.61it/s]\n",
            "Iteration 80\n",
            "100% 11/11 [00:00<00:00, 11.26it/s]\n",
            "Iteration 81\n",
            "100% 11/11 [00:00<00:00, 11.76it/s]\n",
            "Iteration 82\n",
            "100% 11/11 [00:00<00:00, 13.46it/s]\n",
            "Iteration 83\n",
            "100% 11/11 [00:00<00:00, 11.50it/s]\n",
            "Iteration 84\n",
            "100% 11/11 [00:00<00:00, 13.75it/s]\n",
            "Iteration 85\n",
            "100% 11/11 [00:00<00:00, 11.64it/s]\n",
            "Iteration 86\n",
            "100% 11/11 [00:00<00:00, 12.44it/s]\n",
            "Iteration 87\n",
            "100% 11/11 [00:00<00:00, 13.51it/s]\n",
            "Iteration 88\n",
            "100% 11/11 [00:00<00:00, 12.86it/s]\n",
            "Iteration 89\n",
            "100% 11/11 [00:00<00:00, 11.53it/s]\n",
            "Iteration 90\n",
            "100% 11/11 [00:00<00:00, 13.51it/s]\n",
            "Iteration 91\n",
            "100% 11/11 [00:00<00:00, 11.73it/s]\n",
            "Iteration 92\n",
            "100% 11/11 [00:00<00:00, 11.64it/s]\n",
            "Iteration 93\n",
            "100% 5/5 [00:00<00:00, 13.68it/s]\n",
            "cartoonized complete\n",
            "ffmpeg version 3.4.8-0ubuntu0.2 Copyright (c) 2000-2020 the FFmpeg developers\n",
            "  built with gcc 7 (Ubuntu 7.5.0-3ubuntu1~18.04)\n",
            "  configuration: --prefix=/usr --extra-version=0ubuntu0.2 --toolchain=hardened --libdir=/usr/lib/x86_64-linux-gnu --incdir=/usr/include/x86_64-linux-gnu --enable-gpl --disable-stripping --enable-avresample --enable-avisynth --enable-gnutls --enable-ladspa --enable-libass --enable-libbluray --enable-libbs2b --enable-libcaca --enable-libcdio --enable-libflite --enable-libfontconfig --enable-libfreetype --enable-libfribidi --enable-libgme --enable-libgsm --enable-libmp3lame --enable-libmysofa --enable-libopenjpeg --enable-libopenmpt --enable-libopus --enable-libpulse --enable-librubberband --enable-librsvg --enable-libshine --enable-libsnappy --enable-libsoxr --enable-libspeex --enable-libssh --enable-libtheora --enable-libtwolame --enable-libvorbis --enable-libvpx --enable-libwavpack --enable-libwebp --enable-libx265 --enable-libxml2 --enable-libxvid --enable-libzmq --enable-libzvbi --enable-omx --enable-openal --enable-opengl --enable-sdl2 --enable-libdc1394 --enable-libdrm --enable-libiec61883 --enable-chromaprint --enable-frei0r --enable-libopencv --enable-libx264 --enable-shared\n",
            "  libavutil      55. 78.100 / 55. 78.100\n",
            "  libavcodec     57.107.100 / 57.107.100\n",
            "  libavformat    57. 83.100 / 57. 83.100\n",
            "  libavdevice    57. 10.100 / 57. 10.100\n",
            "  libavfilter     6.107.100 /  6.107.100\n",
            "  libavresample   3.  7.  0 /  3.  7.  0\n",
            "  libswscale      4.  8.100 /  4.  8.100\n",
            "  libswresample   2.  9.100 /  2.  9.100\n",
            "  libpostproc    54.  7.100 / 54.  7.100\n",
            "Input #0, image2, from '%03d.jpg':\n",
            "  Duration: 00:00:34.27, start: 0.000000, bitrate: N/A\n",
            "    Stream #0:0: Video: mjpeg, yuvj420p(pc, bt470bg/unknown/unknown), 608x1080 [SAR 1:1 DAR 76:135], 30 fps, 30 tbr, 30 tbn, 30 tbc\n",
            "Stream mapping:\n",
            "  Stream #0:0 -> #0:0 (mjpeg (native) -> h264 (libx264))\n",
            "Press [q] to stop, [?] for help\n",
            "\u001b[1;36m[libx264 @ 0x5570586efe00] \u001b[0musing SAR=1/1\n",
            "\u001b[1;36m[libx264 @ 0x5570586efe00] \u001b[0musing cpu capabilities: MMX2 SSE2Fast SSSE3 SSE4.2 AVX FMA3 BMI2 AVX2\n",
            "\u001b[1;36m[libx264 @ 0x5570586efe00] \u001b[0mprofile High, level 3.1\n",
            "\u001b[1;36m[libx264 @ 0x5570586efe00] \u001b[0m264 - core 152 r2854 e9a5903 - H.264/MPEG-4 AVC codec - Copyleft 2003-2017 - http://www.videolan.org/x264.html - options: cabac=1 ref=3 deblock=1:0:0 analyse=0x3:0x113 me=hex subme=7 psy=1 psy_rd=1.00:0.00 mixed_ref=1 me_range=16 chroma_me=1 trellis=1 8x8dct=1 cqm=0 deadzone=21,11 fast_pskip=1 chroma_qp_offset=-2 threads=6 lookahead_threads=1 sliced_threads=0 nr=0 decimate=1 interlaced=0 bluray_compat=0 constrained_intra=0 bframes=3 b_pyramid=2 b_adapt=1 b_bias=0 direct=1 weightb=1 open_gop=0 weightp=2 keyint=250 keyint_min=25 scenecut=40 intra_refresh=0 rc_lookahead=40 rc=crf mbtree=1 crf=23.0 qcomp=0.60 qpmin=0 qpmax=69 qpstep=4 ip_ratio=1.40 aq=1:1.00\n",
            "Output #0, mp4, to 'cartoon.mp4':\n",
            "  Metadata:\n",
            "    encoder         : Lavf57.83.100\n",
            "    Stream #0:0: Video: h264 (libx264) (avc1 / 0x31637661), yuvj420p(pc), 608x1080 [SAR 1:1 DAR 76:135], q=-1--1, 30 fps, 15360 tbn, 30 tbc\n",
            "    Metadata:\n",
            "      encoder         : Lavc57.107.100 libx264\n",
            "    Side data:\n",
            "      cpb: bitrate max/min/avg: 0/0/0 buffer size: 0 vbv_delay: -1\n",
            "frame= 1028 fps= 41 q=-1.0 Lsize=   11018kB time=00:00:34.16 bitrate=2641.8kbits/s speed=1.36x    \n",
            "video:11005kB audio:0kB subtitle:0kB other streams:0kB global headers:0kB muxing overhead: 0.118028%\n",
            "\u001b[1;36m[libx264 @ 0x5570586efe00] \u001b[0mframe I:7     Avg QP:21.98  size: 30968\n",
            "\u001b[1;36m[libx264 @ 0x5570586efe00] \u001b[0mframe P:262   Avg QP:24.40  size: 17862\n",
            "\u001b[1;36m[libx264 @ 0x5570586efe00] \u001b[0mframe B:759   Avg QP:26.55  size:  8395\n",
            "\u001b[1;36m[libx264 @ 0x5570586efe00] \u001b[0mconsecutive B-frames:  1.4%  0.4%  0.6% 97.7%\n",
            "\u001b[1;36m[libx264 @ 0x5570586efe00] \u001b[0mmb I  I16..4: 24.5% 60.7% 14.8%\n",
            "\u001b[1;36m[libx264 @ 0x5570586efe00] \u001b[0mmb P  I16..4:  9.3% 10.4%  2.1%  P16..4: 44.4% 18.2%  9.4%  0.0%  0.0%    skip: 6.1%\n",
            "\u001b[1;36m[libx264 @ 0x5570586efe00] \u001b[0mmb B  I16..4:  0.9%  0.9%  0.3%  B16..8: 34.8% 13.3%  3.5%  direct: 7.2%  skip:39.1%  L0:47.1% L1:45.2% BI: 7.7%\n",
            "\u001b[1;36m[libx264 @ 0x5570586efe00] \u001b[0m8x8 transform intra:48.2% inter:74.1%\n",
            "\u001b[1;36m[libx264 @ 0x5570586efe00] \u001b[0mcoded y,uvDC,uvAC intra: 37.8% 88.1% 52.0% inter: 22.2% 33.4% 6.2%\n",
            "\u001b[1;36m[libx264 @ 0x5570586efe00] \u001b[0mi16 v,h,dc,p: 18% 34% 11% 38%\n",
            "\u001b[1;36m[libx264 @ 0x5570586efe00] \u001b[0mi8 v,h,dc,ddl,ddr,vr,hd,vl,hu: 19% 21% 36%  5%  2%  3%  3%  4%  7%\n",
            "\u001b[1;36m[libx264 @ 0x5570586efe00] \u001b[0mi4 v,h,dc,ddl,ddr,vr,hd,vl,hu: 35% 14% 27%  6%  4%  5%  3%  5%  2%\n",
            "\u001b[1;36m[libx264 @ 0x5570586efe00] \u001b[0mi8c dc,h,v,p: 51% 24% 19%  5%\n",
            "\u001b[1;36m[libx264 @ 0x5570586efe00] \u001b[0mWeighted P-Frames: Y:3.4% UV:0.0%\n",
            "\u001b[1;36m[libx264 @ 0x5570586efe00] \u001b[0mref P L0: 47.8% 11.0% 26.7% 14.1%  0.3%\n",
            "\u001b[1;36m[libx264 @ 0x5570586efe00] \u001b[0mref B L0: 78.9% 15.9%  5.2%\n",
            "\u001b[1;36m[libx264 @ 0x5570586efe00] \u001b[0mref B L1: 91.9%  8.1%\n",
            "\u001b[1;36m[libx264 @ 0x5570586efe00] \u001b[0mkb/s:2630.81\n",
            "We successfully make the cartoonized video.\n",
            "ffmpeg version 3.4.8-0ubuntu0.2 Copyright (c) 2000-2020 the FFmpeg developers\n",
            "  built with gcc 7 (Ubuntu 7.5.0-3ubuntu1~18.04)\n",
            "  configuration: --prefix=/usr --extra-version=0ubuntu0.2 --toolchain=hardened --libdir=/usr/lib/x86_64-linux-gnu --incdir=/usr/include/x86_64-linux-gnu --enable-gpl --disable-stripping --enable-avresample --enable-avisynth --enable-gnutls --enable-ladspa --enable-libass --enable-libbluray --enable-libbs2b --enable-libcaca --enable-libcdio --enable-libflite --enable-libfontconfig --enable-libfreetype --enable-libfribidi --enable-libgme --enable-libgsm --enable-libmp3lame --enable-libmysofa --enable-libopenjpeg --enable-libopenmpt --enable-libopus --enable-libpulse --enable-librubberband --enable-librsvg --enable-libshine --enable-libsnappy --enable-libsoxr --enable-libspeex --enable-libssh --enable-libtheora --enable-libtwolame --enable-libvorbis --enable-libvpx --enable-libwavpack --enable-libwebp --enable-libx265 --enable-libxml2 --enable-libxvid --enable-libzmq --enable-libzvbi --enable-omx --enable-openal --enable-opengl --enable-sdl2 --enable-libdc1394 --enable-libdrm --enable-libiec61883 --enable-chromaprint --enable-frei0r --enable-libopencv --enable-libx264 --enable-shared\n",
            "  libavutil      55. 78.100 / 55. 78.100\n",
            "  libavcodec     57.107.100 / 57.107.100\n",
            "  libavformat    57. 83.100 / 57. 83.100\n",
            "  libavdevice    57. 10.100 / 57. 10.100\n",
            "  libavfilter     6.107.100 /  6.107.100\n",
            "  libavresample   3.  7.  0 /  3.  7.  0\n",
            "  libswscale      4.  8.100 /  4.  8.100\n",
            "  libswresample   2.  9.100 /  2.  9.100\n",
            "  libpostproc    54.  7.100 / 54.  7.100\n",
            "Input #0, mov,mp4,m4a,3gp,3g2,mj2, from 'input_video.mp4':\n",
            "  Metadata:\n",
            "    major_brand     : isom\n",
            "    minor_version   : 512\n",
            "    compatible_brands: isomiso2avc1mp41\n",
            "    encoder         : Lavf57.83.100\n",
            "  Duration: 00:00:34.37, start: 0.000000, bitrate: 758 kb/s\n",
            "    Stream #0:0(und): Video: h264 (High) (avc1 / 0x31637661), yuv420p(tv, bt709), 608x1080 [SAR 1:1 DAR 76:135], 622 kb/s, 29.97 fps, 29.97 tbr, 30k tbn, 59.94 tbc (default)\n",
            "    Metadata:\n",
            "      handler_name    : VideoHandler\n",
            "    Stream #0:1(und): Audio: aac (LC) (mp4a / 0x6134706D), 44100 Hz, stereo, fltp, 127 kb/s (default)\n",
            "    Metadata:\n",
            "      handler_name    : SoundHandler\n",
            "Stream mapping:\n",
            "  Stream #0:1 -> #0:0 (aac (native) -> pcm_s16le (native))\n",
            "Press [q] to stop, [?] for help\n",
            "Output #0, wav, to 'audio.wav':\n",
            "  Metadata:\n",
            "    major_brand     : isom\n",
            "    minor_version   : 512\n",
            "    compatible_brands: isomiso2avc1mp41\n",
            "    ISFT            : Lavf57.83.100\n",
            "    Stream #0:0(und): Audio: pcm_s16le ([1][0][0][0] / 0x0001), 44100 Hz, stereo, s16, 1411 kb/s (default)\n",
            "    Metadata:\n",
            "      handler_name    : SoundHandler\n",
            "      encoder         : Lavc57.107.100 pcm_s16le\n",
            "size=    5920kB time=00:00:34.36 bitrate=1411.2kbits/s speed= 743x    \n",
            "video:0kB audio:5920kB subtitle:0kB other streams:0kB global headers:0kB muxing overhead: 0.001287%\n",
            "Successfully export audio\n",
            "ffmpeg version 3.4.8-0ubuntu0.2 Copyright (c) 2000-2020 the FFmpeg developers\n",
            "  built with gcc 7 (Ubuntu 7.5.0-3ubuntu1~18.04)\n",
            "  configuration: --prefix=/usr --extra-version=0ubuntu0.2 --toolchain=hardened --libdir=/usr/lib/x86_64-linux-gnu --incdir=/usr/include/x86_64-linux-gnu --enable-gpl --disable-stripping --enable-avresample --enable-avisynth --enable-gnutls --enable-ladspa --enable-libass --enable-libbluray --enable-libbs2b --enable-libcaca --enable-libcdio --enable-libflite --enable-libfontconfig --enable-libfreetype --enable-libfribidi --enable-libgme --enable-libgsm --enable-libmp3lame --enable-libmysofa --enable-libopenjpeg --enable-libopenmpt --enable-libopus --enable-libpulse --enable-librubberband --enable-librsvg --enable-libshine --enable-libsnappy --enable-libsoxr --enable-libspeex --enable-libssh --enable-libtheora --enable-libtwolame --enable-libvorbis --enable-libvpx --enable-libwavpack --enable-libwebp --enable-libx265 --enable-libxml2 --enable-libxvid --enable-libzmq --enable-libzvbi --enable-omx --enable-openal --enable-opengl --enable-sdl2 --enable-libdc1394 --enable-libdrm --enable-libiec61883 --enable-chromaprint --enable-frei0r --enable-libopencv --enable-libx264 --enable-shared\n",
            "  libavutil      55. 78.100 / 55. 78.100\n",
            "  libavcodec     57.107.100 / 57.107.100\n",
            "  libavformat    57. 83.100 / 57. 83.100\n",
            "  libavdevice    57. 10.100 / 57. 10.100\n",
            "  libavfilter     6.107.100 /  6.107.100\n",
            "  libavresample   3.  7.  0 /  3.  7.  0\n",
            "  libswscale      4.  8.100 /  4.  8.100\n",
            "  libswresample   2.  9.100 /  2.  9.100\n",
            "  libpostproc    54.  7.100 / 54.  7.100\n",
            "Input #0, mov,mp4,m4a,3gp,3g2,mj2, from 'cartoon.mp4':\n",
            "  Metadata:\n",
            "    major_brand     : isom\n",
            "    minor_version   : 512\n",
            "    compatible_brands: isomiso2avc1mp41\n",
            "    encoder         : Lavf57.83.100\n",
            "  Duration: 00:00:34.27, start: 0.000000, bitrate: 2634 kb/s\n",
            "    Stream #0:0(und): Video: h264 (High) (avc1 / 0x31637661), yuvj420p(pc), 608x1080 [SAR 1:1 DAR 76:135], 2630 kb/s, 30 fps, 30 tbr, 15360 tbn, 60 tbc (default)\n",
            "    Metadata:\n",
            "      handler_name    : VideoHandler\n",
            "\u001b[0;33mGuessed Channel Layout for Input Stream #1.0 : stereo\n",
            "\u001b[0mInput #1, wav, from 'audio.wav':\n",
            "  Metadata:\n",
            "    encoder         : Lavf57.83.100\n",
            "  Duration: 00:00:34.37, bitrate: 1411 kb/s\n",
            "    Stream #1:0: Audio: pcm_s16le ([1][0][0][0] / 0x0001), 44100 Hz, stereo, s16, 1411 kb/s\n",
            "Stream mapping:\n",
            "  Stream #0:0 -> #0:0 (copy)\n",
            "  Stream #1:0 -> #0:1 (pcm_s16le (native) -> aac (native))\n",
            "Press [q] to stop, [?] for help\n",
            "Output #0, mp4, to 'cartoon_audio.mp4':\n",
            "  Metadata:\n",
            "    major_brand     : isom\n",
            "    minor_version   : 512\n",
            "    compatible_brands: isomiso2avc1mp41\n",
            "    encoder         : Lavf57.83.100\n",
            "    Stream #0:0(und): Video: h264 (High) (avc1 / 0x31637661), yuvj420p(pc), 608x1080 [SAR 1:1 DAR 76:135], q=2-31, 2630 kb/s, 30 fps, 30 tbr, 15360 tbn, 15360 tbc (default)\n",
            "    Metadata:\n",
            "      handler_name    : VideoHandler\n",
            "    Stream #0:1: Audio: aac (LC) (mp4a / 0x6134706D), 44100 Hz, stereo, fltp, 128 kb/s\n",
            "    Metadata:\n",
            "      encoder         : Lavc57.107.100 aac\n",
            "frame= 1028 fps=0.0 q=-1.0 Lsize=   11595kB time=00:00:34.36 bitrate=2763.9kbits/s speed=36.8x    \n",
            "video:11005kB audio:552kB subtitle:0kB other streams:0kB global headers:0kB muxing overhead: 0.325775%\n",
            "\u001b[1;36m[aac @ 0x5653b8647700] \u001b[0mQavg: 722.979\n",
            "Successfully replace audio in output file\n"
          ],
          "name": "stdout"
        }
      ]
    },
    {
      "cell_type": "code",
      "metadata": {
        "colab": {
          "base_uri": "https://localhost:8080/"
        },
        "id": "DeqGCMq9VOsH",
        "outputId": "0b680c40-d2d7-4cf3-a42d-80796b6ed0c5"
      },
      "source": [
        "!pip install -U kora"
      ],
      "execution_count": 10,
      "outputs": [
        {
          "output_type": "stream",
          "text": [
            "Collecting kora\n",
            "\u001b[?25l  Downloading https://files.pythonhosted.org/packages/5b/0d/3d9ab9ee747f0925b038e8350ce137276a7a4730a96a3516485dc1b87ba3/kora-0.9.19-py3-none-any.whl (57kB)\n",
            "\u001b[K     |████████████████████████████████| 61kB 3.4MB/s \n",
            "\u001b[?25hCollecting fastcore\n",
            "\u001b[?25l  Downloading https://files.pythonhosted.org/packages/0c/98/60404e2817cff113a6ae4023bc1772e23179408fdf7857fa410551758dfe/fastcore-1.3.19-py3-none-any.whl (53kB)\n",
            "\u001b[K     |████████████████████████████████| 61kB 5.0MB/s \n",
            "\u001b[?25hRequirement already satisfied, skipping upgrade: ipython in /usr/local/lib/python3.7/dist-packages (from kora) (5.5.0)\n",
            "Requirement already satisfied, skipping upgrade: packaging in /usr/local/lib/python3.7/dist-packages (from fastcore->kora) (20.9)\n",
            "Requirement already satisfied, skipping upgrade: pip in /usr/local/lib/python3.7/dist-packages (from fastcore->kora) (19.3.1)\n",
            "Requirement already satisfied, skipping upgrade: prompt-toolkit<2.0.0,>=1.0.4 in /usr/local/lib/python3.7/dist-packages (from ipython->kora) (1.0.18)\n",
            "Requirement already satisfied, skipping upgrade: simplegeneric>0.8 in /usr/local/lib/python3.7/dist-packages (from ipython->kora) (0.8.1)\n",
            "Requirement already satisfied, skipping upgrade: pygments in /usr/local/lib/python3.7/dist-packages (from ipython->kora) (2.6.1)\n",
            "Requirement already satisfied, skipping upgrade: setuptools>=18.5 in /usr/local/lib/python3.7/dist-packages (from ipython->kora) (54.0.0)\n",
            "Requirement already satisfied, skipping upgrade: decorator in /usr/local/lib/python3.7/dist-packages (from ipython->kora) (4.4.2)\n",
            "Requirement already satisfied, skipping upgrade: traitlets>=4.2 in /usr/local/lib/python3.7/dist-packages (from ipython->kora) (5.0.5)\n",
            "Requirement already satisfied, skipping upgrade: pickleshare in /usr/local/lib/python3.7/dist-packages (from ipython->kora) (0.7.5)\n",
            "Requirement already satisfied, skipping upgrade: pexpect; sys_platform != \"win32\" in /usr/local/lib/python3.7/dist-packages (from ipython->kora) (4.8.0)\n",
            "Requirement already satisfied, skipping upgrade: pyparsing>=2.0.2 in /usr/local/lib/python3.7/dist-packages (from packaging->fastcore->kora) (2.4.7)\n",
            "Requirement already satisfied, skipping upgrade: six>=1.9.0 in /usr/local/lib/python3.7/dist-packages (from prompt-toolkit<2.0.0,>=1.0.4->ipython->kora) (1.15.0)\n",
            "Requirement already satisfied, skipping upgrade: wcwidth in /usr/local/lib/python3.7/dist-packages (from prompt-toolkit<2.0.0,>=1.0.4->ipython->kora) (0.2.5)\n",
            "Requirement already satisfied, skipping upgrade: ipython-genutils in /usr/local/lib/python3.7/dist-packages (from traitlets>=4.2->ipython->kora) (0.2.0)\n",
            "Requirement already satisfied, skipping upgrade: ptyprocess>=0.5 in /usr/local/lib/python3.7/dist-packages (from pexpect; sys_platform != \"win32\"->ipython->kora) (0.7.0)\n",
            "Installing collected packages: fastcore, kora\n",
            "Successfully installed fastcore-1.3.19 kora-0.9.19\n"
          ],
          "name": "stdout"
        }
      ]
    },
    {
      "cell_type": "code",
      "metadata": {
        "colab": {
          "base_uri": "https://localhost:8080/",
          "height": 380
        },
        "id": "LNhiX8iqVd4i",
        "cellView": "form",
        "outputId": "83c88780-d68b-49ed-a0f2-e133ffc9982d"
      },
      "source": [
        "from IPython.display import HTML\r\n",
        "enter_youtube_link = \"https://youtu.be/eAmGbA0JyIU\" #@param {type:\"string\"}\r\n",
        "youtube_id=enter_youtube_link.split(\"/\")\r\n",
        "html_code=\"<h3>Watch original youtube video</h3>\"\r\n",
        "display(HTML(html_code))\r\n",
        "youtube_video_display=\"\"\r\n",
        "youtube_video_display='<iframe width=\"'+str(560)+'\" height=\"'+str(315)+'\"\\nsrc=\"https://www.youtube.com/embed/'+youtube_id[-1]+'\"></iframe>'\r\n",
        "display(HTML(youtube_video_display))"
      ],
      "execution_count": 11,
      "outputs": [
        {
          "output_type": "display_data",
          "data": {
            "text/html": [
              "<h3>Watch original youtube video</h3>"
            ],
            "text/plain": [
              "<IPython.core.display.HTML object>"
            ]
          },
          "metadata": {
            "tags": []
          }
        },
        {
          "output_type": "display_data",
          "data": {
            "text/html": [
              "<iframe width=\"560\" height=\"315\"\n",
              "src=\"https://www.youtube.com/embed/eAmGbA0JyIU\"></iframe>"
            ],
            "text/plain": [
              "<IPython.core.display.HTML object>"
            ]
          },
          "metadata": {
            "tags": []
          }
        }
      ]
    },
    {
      "cell_type": "code",
      "metadata": {
        "colab": {
          "base_uri": "https://localhost:8080/",
          "height": 909
        },
        "id": "AHCW_8VQVbG2",
        "outputId": "72fc5002-b073-489f-94eb-c2912ecbc80b"
      },
      "source": [
        "# @title ##**paste a path to the watch video** { display-mode: \"form\" }\r\n",
        "enter_the_path = \"/content/gdrive/MyDrive/noraml-video-to-cartoon-video/cartoonization/input_video/cartoon_audio.mp4\" #@param {type:\"string\"}\r\n",
        "\r\n",
        "from kora.drive import upload_public\r\n",
        "from IPython.display import HTML\r\n",
        "from IPython.display import clear_output\r\n",
        "url = upload_public(enter_the_path)\r\n",
        "clear_output()\r\n",
        "HTML(f\"\"\"<video src={url} width=500 controls/>\"\"\")\r\n",
        " "
      ],
      "execution_count": 12,
      "outputs": [
        {
          "output_type": "execute_result",
          "data": {
            "text/html": [
              "<video src=https://drive.google.com/uc?id=1oTOEma66-WXggb9c8to1AADletlfQjJh width=500 controls/>"
            ],
            "text/plain": [
              "<IPython.core.display.HTML object>"
            ]
          },
          "metadata": {
            "tags": []
          },
          "execution_count": 12
        }
      ]
    },
    {
      "cell_type": "code",
      "metadata": {
        "id": "r18-dtbNwEiz"
      },
      "source": [
        ""
      ],
      "execution_count": null,
      "outputs": []
    }
  ]
}